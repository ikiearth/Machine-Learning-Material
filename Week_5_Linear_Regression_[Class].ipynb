{
  "cells": [
    {
      "cell_type": "markdown",
      "metadata": {
        "id": "0aBgzSRhmi7A"
      },
      "source": [
        "## Import Libraries and Dataset"
      ]
    },
    {
      "cell_type": "markdown",
      "metadata": {
        "id": "nNix4QmvoS2j"
      },
      "source": [
        "Import libraries"
      ]
    },
    {
      "cell_type": "code",
      "execution_count": 3,
      "metadata": {
        "id": "CheE9Hg9i0kr"
      },
      "outputs": [],
      "source": [
        "import numpy as np\n",
        "import pandas as pd\n",
        "import matplotlib.pyplot as plt\n",
        "import seaborn as sns"
      ]
    },
    {
      "cell_type": "markdown",
      "metadata": {
        "id": "9h5KJkcvoUx7"
      },
      "source": [
        "Import dataset"
      ]
    },
    {
      "cell_type": "code",
      "execution_count": 4,
      "metadata": {
        "id": "nkRfAgQtjEAd"
      },
      "outputs": [],
      "source": [
        "df = pd.read_csv('regression_geologic_dataset.csv')"
      ]
    },
    {
      "cell_type": "markdown",
      "metadata": {
        "id": "mSRFE6xIo3SR"
      },
      "source": [
        "Read the first 5 rows using `head` method\n",
        "\n",
        "\n",
        "\n"
      ]
    },
    {
      "cell_type": "code",
      "execution_count": 5,
      "metadata": {
        "colab": {
          "base_uri": "https://localhost:8080/",
          "height": 270
        },
        "id": "T-SDf5KTkEPT",
        "outputId": "9404e358-fb1b-4822-f941-dcf3d56ba7ba"
      },
      "outputs": [
        {
          "data": {
            "text/html": [
              "<div>\n",
              "<style scoped>\n",
              "    .dataframe tbody tr th:only-of-type {\n",
              "        vertical-align: middle;\n",
              "    }\n",
              "\n",
              "    .dataframe tbody tr th {\n",
              "        vertical-align: top;\n",
              "    }\n",
              "\n",
              "    .dataframe thead th {\n",
              "        text-align: right;\n",
              "    }\n",
              "</style>\n",
              "<table border=\"1\" class=\"dataframe\">\n",
              "  <thead>\n",
              "    <tr style=\"text-align: right;\">\n",
              "      <th></th>\n",
              "      <th>porosity</th>\n",
              "      <th>matrixperm</th>\n",
              "      <th>acousticimpedance</th>\n",
              "      <th>brittlenessratio</th>\n",
              "      <th>toc</th>\n",
              "      <th>vitrinitereflectance</th>\n",
              "      <th>productivitymetric</th>\n",
              "    </tr>\n",
              "  </thead>\n",
              "  <tbody>\n",
              "    <tr>\n",
              "      <th>0</th>\n",
              "      <td>8.456</td>\n",
              "      <td>292</td>\n",
              "      <td>3.080</td>\n",
              "      <td>97.680</td>\n",
              "      <td>4.64</td>\n",
              "      <td>1.848</td>\n",
              "      <td>48.306469</td>\n",
              "    </tr>\n",
              "    <tr>\n",
              "      <th>1</th>\n",
              "      <td>8.666</td>\n",
              "      <td>353</td>\n",
              "      <td>3.542</td>\n",
              "      <td>55.404</td>\n",
              "      <td>3.56</td>\n",
              "      <td>1.504</td>\n",
              "      <td>41.300912</td>\n",
              "    </tr>\n",
              "    <tr>\n",
              "      <th>2</th>\n",
              "      <td>9.814</td>\n",
              "      <td>259</td>\n",
              "      <td>4.411</td>\n",
              "      <td>87.360</td>\n",
              "      <td>3.56</td>\n",
              "      <td>2.176</td>\n",
              "      <td>49.688356</td>\n",
              "    </tr>\n",
              "    <tr>\n",
              "      <th>3</th>\n",
              "      <td>12.369</td>\n",
              "      <td>675</td>\n",
              "      <td>2.893</td>\n",
              "      <td>47.772</td>\n",
              "      <td>4.32</td>\n",
              "      <td>1.504</td>\n",
              "      <td>59.132694</td>\n",
              "    </tr>\n",
              "    <tr>\n",
              "      <th>4</th>\n",
              "      <td>12.264</td>\n",
              "      <td>457</td>\n",
              "      <td>3.498</td>\n",
              "      <td>13.128</td>\n",
              "      <td>6.04</td>\n",
              "      <td>1.520</td>\n",
              "      <td>39.503121</td>\n",
              "    </tr>\n",
              "  </tbody>\n",
              "</table>\n",
              "</div>"
            ],
            "text/plain": [
              "   porosity  matrixperm  acousticimpedance  brittlenessratio   toc  \\\n",
              "0     8.456         292              3.080            97.680  4.64   \n",
              "1     8.666         353              3.542            55.404  3.56   \n",
              "2     9.814         259              4.411            87.360  3.56   \n",
              "3    12.369         675              2.893            47.772  4.32   \n",
              "4    12.264         457              3.498            13.128  6.04   \n",
              "\n",
              "   vitrinitereflectance  productivitymetric  \n",
              "0                 1.848           48.306469  \n",
              "1                 1.504           41.300912  \n",
              "2                 2.176           49.688356  \n",
              "3                 1.504           59.132694  \n",
              "4                 1.520           39.503121  "
            ]
          },
          "execution_count": 5,
          "metadata": {},
          "output_type": "execute_result"
        }
      ],
      "source": [
        "df.head()"
      ]
    },
    {
      "cell_type": "markdown",
      "metadata": {
        "id": "sw9bC_UFEIaA"
      },
      "source": [
        "## Exploratory Data Analysis"
      ]
    },
    {
      "cell_type": "markdown",
      "metadata": {
        "id": "fyJY29YypH_V"
      },
      "source": [
        "Describe **statistical information** of dataset using `describe` method. Describe method is very handy in getting various summary statistics. This method returns the count, mean and standard deviation, minimum and maximum values and the quantiles of the data.\n",
        "\n",
        "Also, since we have a lot of features, we can use `transpose` method to visualize the table better."
      ]
    },
    {
      "cell_type": "code",
      "execution_count": 6,
      "metadata": {
        "colab": {
          "base_uri": "https://localhost:8080/",
          "height": 364
        },
        "id": "UTIU-N39kOHd",
        "outputId": "151f1b32-3644-4f95-e095-d8cdeecc1399"
      },
      "outputs": [
        {
          "data": {
            "text/html": [
              "<div>\n",
              "<style scoped>\n",
              "    .dataframe tbody tr th:only-of-type {\n",
              "        vertical-align: middle;\n",
              "    }\n",
              "\n",
              "    .dataframe tbody tr th {\n",
              "        vertical-align: top;\n",
              "    }\n",
              "\n",
              "    .dataframe thead th {\n",
              "        text-align: right;\n",
              "    }\n",
              "</style>\n",
              "<table border=\"1\" class=\"dataframe\">\n",
              "  <thead>\n",
              "    <tr style=\"text-align: right;\">\n",
              "      <th></th>\n",
              "      <th>porosity</th>\n",
              "      <th>matrixperm</th>\n",
              "      <th>acousticimpedance</th>\n",
              "      <th>brittlenessratio</th>\n",
              "      <th>toc</th>\n",
              "      <th>vitrinitereflectance</th>\n",
              "      <th>productivitymetric</th>\n",
              "    </tr>\n",
              "  </thead>\n",
              "  <tbody>\n",
              "    <tr>\n",
              "      <th>count</th>\n",
              "      <td>200.000000</td>\n",
              "      <td>200.000000</td>\n",
              "      <td>200.000000</td>\n",
              "      <td>200.000000</td>\n",
              "      <td>200.000000</td>\n",
              "      <td>200.000000</td>\n",
              "      <td>200.000000</td>\n",
              "    </tr>\n",
              "    <tr>\n",
              "      <th>mean</th>\n",
              "      <td>10.493805</td>\n",
              "      <td>433.075000</td>\n",
              "      <td>3.265735</td>\n",
              "      <td>57.794340</td>\n",
              "      <td>3.970700</td>\n",
              "      <td>1.571440</td>\n",
              "      <td>50.000000</td>\n",
              "    </tr>\n",
              "    <tr>\n",
              "      <th>std</th>\n",
              "      <td>2.079824</td>\n",
              "      <td>173.101415</td>\n",
              "      <td>0.623574</td>\n",
              "      <td>16.955346</td>\n",
              "      <td>1.907119</td>\n",
              "      <td>0.240662</td>\n",
              "      <td>11.505310</td>\n",
              "    </tr>\n",
              "    <tr>\n",
              "      <th>min</th>\n",
              "      <td>4.585000</td>\n",
              "      <td>113.000000</td>\n",
              "      <td>1.408000</td>\n",
              "      <td>13.128000</td>\n",
              "      <td>0.100000</td>\n",
              "      <td>0.744000</td>\n",
              "      <td>24.437856</td>\n",
              "    </tr>\n",
              "    <tr>\n",
              "      <th>25%</th>\n",
              "      <td>9.038750</td>\n",
              "      <td>312.250000</td>\n",
              "      <td>2.802250</td>\n",
              "      <td>45.306000</td>\n",
              "      <td>2.470000</td>\n",
              "      <td>1.416000</td>\n",
              "      <td>41.961030</td>\n",
              "    </tr>\n",
              "    <tr>\n",
              "      <th>50%</th>\n",
              "      <td>10.549000</td>\n",
              "      <td>403.500000</td>\n",
              "      <td>3.250500</td>\n",
              "      <td>59.412000</td>\n",
              "      <td>4.120000</td>\n",
              "      <td>1.568000</td>\n",
              "      <td>49.692285</td>\n",
              "    </tr>\n",
              "    <tr>\n",
              "      <th>75%</th>\n",
              "      <td>12.181750</td>\n",
              "      <td>528.750000</td>\n",
              "      <td>3.679500</td>\n",
              "      <td>69.915000</td>\n",
              "      <td>5.400000</td>\n",
              "      <td>1.714000</td>\n",
              "      <td>58.986667</td>\n",
              "    </tr>\n",
              "    <tr>\n",
              "      <th>max</th>\n",
              "      <td>16.485000</td>\n",
              "      <td>987.000000</td>\n",
              "      <td>5.093000</td>\n",
              "      <td>101.196000</td>\n",
              "      <td>8.720000</td>\n",
              "      <td>2.296000</td>\n",
              "      <td>77.270733</td>\n",
              "    </tr>\n",
              "  </tbody>\n",
              "</table>\n",
              "</div>"
            ],
            "text/plain": [
              "         porosity  matrixperm  acousticimpedance  brittlenessratio  \\\n",
              "count  200.000000  200.000000         200.000000        200.000000   \n",
              "mean    10.493805  433.075000           3.265735         57.794340   \n",
              "std      2.079824  173.101415           0.623574         16.955346   \n",
              "min      4.585000  113.000000           1.408000         13.128000   \n",
              "25%      9.038750  312.250000           2.802250         45.306000   \n",
              "50%     10.549000  403.500000           3.250500         59.412000   \n",
              "75%     12.181750  528.750000           3.679500         69.915000   \n",
              "max     16.485000  987.000000           5.093000        101.196000   \n",
              "\n",
              "              toc  vitrinitereflectance  productivitymetric  \n",
              "count  200.000000            200.000000          200.000000  \n",
              "mean     3.970700              1.571440           50.000000  \n",
              "std      1.907119              0.240662           11.505310  \n",
              "min      0.100000              0.744000           24.437856  \n",
              "25%      2.470000              1.416000           41.961030  \n",
              "50%      4.120000              1.568000           49.692285  \n",
              "75%      5.400000              1.714000           58.986667  \n",
              "max      8.720000              2.296000           77.270733  "
            ]
          },
          "execution_count": 6,
          "metadata": {},
          "output_type": "execute_result"
        }
      ],
      "source": [
        "df.describe()"
      ]
    },
    {
      "cell_type": "markdown",
      "metadata": {
        "id": "w57kdTo9s348"
      },
      "source": [
        "We can also use `info` method to know the column, data types, and count of non-null data points."
      ]
    },
    {
      "cell_type": "code",
      "execution_count": 7,
      "metadata": {
        "colab": {
          "base_uri": "https://localhost:8080/"
        },
        "id": "wkvID5kOkcpC",
        "outputId": "bc2e5eb3-7821-4e42-d7da-8fd3cf0a4130"
      },
      "outputs": [
        {
          "name": "stdout",
          "output_type": "stream",
          "text": [
            "<class 'pandas.core.frame.DataFrame'>\n",
            "RangeIndex: 200 entries, 0 to 199\n",
            "Data columns (total 7 columns):\n",
            " #   Column                Non-Null Count  Dtype  \n",
            "---  ------                --------------  -----  \n",
            " 0   porosity              200 non-null    float64\n",
            " 1   matrixperm            200 non-null    int64  \n",
            " 2   acousticimpedance     200 non-null    float64\n",
            " 3   brittlenessratio      200 non-null    float64\n",
            " 4   toc                   200 non-null    float64\n",
            " 5   vitrinitereflectance  200 non-null    float64\n",
            " 6   productivitymetric    200 non-null    float64\n",
            "dtypes: float64(6), int64(1)\n",
            "memory usage: 11.1 KB\n"
          ]
        }
      ],
      "source": [
        "df.info()"
      ]
    },
    {
      "cell_type": "markdown",
      "metadata": {
        "id": "-jUbu2GPERk3"
      },
      "source": [
        "### Univariate data analysis"
      ]
    },
    {
      "cell_type": "markdown",
      "metadata": {
        "id": "Kw1AWetvuvJu"
      },
      "source": [
        "**Univariate data analysis** can also be described using graphical tools such as \n",
        "* Histogram (using `distplot`, `displot` for a figure-level, or `histplot` for axes-level function from seaborn)\n",
        "* Box plot (using `boxplot` from seaborn)"
      ]
    },
    {
      "cell_type": "code",
      "execution_count": 8,
      "metadata": {
        "colab": {
          "base_uri": "https://localhost:8080/",
          "height": 493
        },
        "id": "DeG_zwrgkuaO",
        "outputId": "96eb7f24-68d4-482d-9002-dc97828f77ba"
      },
      "outputs": [
        {
          "name": "stderr",
          "output_type": "stream",
          "text": [
            "/var/folders/w5/0trdcvnj2sl845mfj4rljf600000gn/T/ipykernel_62526/2997311483.py:1: UserWarning: \n",
            "\n",
            "`distplot` is a deprecated function and will be removed in seaborn v0.14.0.\n",
            "\n",
            "Please adapt your code to use either `displot` (a figure-level function with\n",
            "similar flexibility) or `histplot` (an axes-level function for histograms).\n",
            "\n",
            "For a guide to updating your code to use the new functions, please see\n",
            "https://gist.github.com/mwaskom/de44147ed2974457ad6372750bbe5751\n",
            "\n",
            "  sns.distplot(df['matrixperm'])\n"
          ]
        },
        {
          "data": {
            "text/plain": [
              "<Axes: xlabel='matrixperm', ylabel='Density'>"
            ]
          },
          "execution_count": 8,
          "metadata": {},
          "output_type": "execute_result"
        },
        {
          "data": {
            "image/png": "[encoded data removed]",
            "text/plain": [
              "<Figure size 640x480 with 1 Axes>"
            ]
          },
          "metadata": {},
          "output_type": "display_data"
        }
      ],
      "source": [
        "sns.distplot(df['matrixperm'])"
      ]
    },
    {
      "cell_type": "markdown",
      "metadata": {
        "id": "oqZ6gn0SwBrs"
      },
      "source": [
        "We can also visualize the boxplots and histograms altogether **in a single figure** by using `subplots` method from `matplotlib.pyplot` libraries"
      ]
    },
    {
      "cell_type": "code",
      "execution_count": 9,
      "metadata": {
        "colab": {
          "base_uri": "https://localhost:8080/",
          "height": 283
        },
        "id": "FxfjxkVvlB-Z",
        "outputId": "388dfd98-b8df-4dc3-aaba-52ed6a536b42"
      },
      "outputs": [
        {
          "data": {
            "text/plain": [
              "<Axes: >"
            ]
          },
          "execution_count": 9,
          "metadata": {},
          "output_type": "execute_result"
        },
        {
          "data": {
            "image/png": "[encoded data removed]",
            "text/plain": [
              "<Figure size 640x480 with 1 Axes>"
            ]
          },
          "metadata": {},
          "output_type": "display_data"
        }
      ],
      "source": [
        "sns.boxplot(df['porosity'])"
      ]
    },
    {
      "cell_type": "markdown",
      "metadata": {
        "id": "KjYHZCfuEaju"
      },
      "source": [
        "### Multi-variate data analysis"
      ]
    },
    {
      "cell_type": "markdown",
      "metadata": {
        "id": "y7HEsIY9tQd8"
      },
      "source": [
        "Often time, we are interested in the **interaction between data feature**. Thus, we will perform multi-variate data exploration, such as:\n",
        "* Scatter plot (using `scatterplot` from seaborn) to visualize correlation between each independent variables with dependent variable\n",
        "* Pair plot (using `pairplot` from seaborn)\n",
        "* Correlation matrix (using `corr` method from pandas)\n",
        "* Heat map (using `heatmap` from seaborn)"
      ]
    },
    {
      "cell_type": "code",
      "execution_count": 10,
      "metadata": {
        "colab": {
          "base_uri": "https://localhost:8080/",
          "height": 297
        },
        "id": "X-0hAKyrlb5A",
        "outputId": "7a0488ba-29a3-4e6d-823e-43079d17252b"
      },
      "outputs": [
        {
          "data": {
            "text/plain": [
              "<Axes: xlabel='brittlenessratio', ylabel='productivitymetric'>"
            ]
          },
          "execution_count": 10,
          "metadata": {},
          "output_type": "execute_result"
        },
        {
          "data": {
            "image/png": "[encoded data removed]",
            "text/plain": [
              "<Figure size 640x480 with 1 Axes>"
            ]
          },
          "metadata": {},
          "output_type": "display_data"
        }
      ],
      "source": [
        "sns.scatterplot(data=df, x=\"brittlenessratio\", y=\"productivitymetric\")"
      ]
    },
    {
      "cell_type": "code",
      "execution_count": 11,
      "metadata": {
        "id": "r1_Sbe8MmdMA"
      },
      "outputs": [],
      "source": [
        "# sns.pairplot(df)"
      ]
    },
    {
      "cell_type": "markdown",
      "metadata": {
        "id": "hPoJVqy3478f"
      },
      "source": [
        "**Correlation matrix** compute pairwise correlation of columns in dataframe. There are several method of correlation based on data type:\n",
        "* Pearson\n",
        "* Kendall\n",
        "* Spearman\n",
        "\n",
        "We can use `corr` method from pandas, which return another data frame of correlation coefficients between variables"
      ]
    },
    {
      "cell_type": "code",
      "execution_count": 12,
      "metadata": {
        "colab": {
          "base_uri": "https://localhost:8080/",
          "height": 333
        },
        "id": "9eHS-BpRnurz",
        "outputId": "c933534f-8401-47a6-8881-3f256631b701"
      },
      "outputs": [
        {
          "data": {
            "text/html": [
              "<div>\n",
              "<style scoped>\n",
              "    .dataframe tbody tr th:only-of-type {\n",
              "        vertical-align: middle;\n",
              "    }\n",
              "\n",
              "    .dataframe tbody tr th {\n",
              "        vertical-align: top;\n",
              "    }\n",
              "\n",
              "    .dataframe thead th {\n",
              "        text-align: right;\n",
              "    }\n",
              "</style>\n",
              "<table border=\"1\" class=\"dataframe\">\n",
              "  <thead>\n",
              "    <tr style=\"text-align: right;\">\n",
              "      <th></th>\n",
              "      <th>porosity</th>\n",
              "      <th>matrixperm</th>\n",
              "      <th>acousticimpedance</th>\n",
              "      <th>brittlenessratio</th>\n",
              "      <th>toc</th>\n",
              "      <th>vitrinitereflectance</th>\n",
              "      <th>productivitymetric</th>\n",
              "    </tr>\n",
              "  </thead>\n",
              "  <tbody>\n",
              "    <tr>\n",
              "      <th>porosity</th>\n",
              "      <td>1.000000</td>\n",
              "      <td>0.760546</td>\n",
              "      <td>-0.461549</td>\n",
              "      <td>-0.218570</td>\n",
              "      <td>0.710718</td>\n",
              "      <td>0.111860</td>\n",
              "      <td>0.861910</td>\n",
              "    </tr>\n",
              "    <tr>\n",
              "      <th>matrixperm</th>\n",
              "      <td>0.760546</td>\n",
              "      <td>1.000000</td>\n",
              "      <td>-0.239636</td>\n",
              "      <td>-0.124017</td>\n",
              "      <td>0.472598</td>\n",
              "      <td>0.051023</td>\n",
              "      <td>0.727426</td>\n",
              "    </tr>\n",
              "    <tr>\n",
              "      <th>acousticimpedance</th>\n",
              "      <td>-0.461549</td>\n",
              "      <td>-0.239636</td>\n",
              "      <td>1.000000</td>\n",
              "      <td>0.127599</td>\n",
              "      <td>-0.529581</td>\n",
              "      <td>0.499143</td>\n",
              "      <td>-0.390835</td>\n",
              "    </tr>\n",
              "    <tr>\n",
              "      <th>brittlenessratio</th>\n",
              "      <td>-0.218570</td>\n",
              "      <td>-0.124017</td>\n",
              "      <td>0.127599</td>\n",
              "      <td>1.000000</td>\n",
              "      <td>-0.212520</td>\n",
              "      <td>0.317929</td>\n",
              "      <td>0.237155</td>\n",
              "    </tr>\n",
              "    <tr>\n",
              "      <th>toc</th>\n",
              "      <td>0.710718</td>\n",
              "      <td>0.472598</td>\n",
              "      <td>-0.529581</td>\n",
              "      <td>-0.212520</td>\n",
              "      <td>1.000000</td>\n",
              "      <td>0.300523</td>\n",
              "      <td>0.654632</td>\n",
              "    </tr>\n",
              "    <tr>\n",
              "      <th>vitrinitereflectance</th>\n",
              "      <td>0.111860</td>\n",
              "      <td>0.051023</td>\n",
              "      <td>0.499143</td>\n",
              "      <td>0.317929</td>\n",
              "      <td>0.300523</td>\n",
              "      <td>1.000000</td>\n",
              "      <td>0.323182</td>\n",
              "    </tr>\n",
              "    <tr>\n",
              "      <th>productivitymetric</th>\n",
              "      <td>0.861910</td>\n",
              "      <td>0.727426</td>\n",
              "      <td>-0.390835</td>\n",
              "      <td>0.237155</td>\n",
              "      <td>0.654632</td>\n",
              "      <td>0.323182</td>\n",
              "      <td>1.000000</td>\n",
              "    </tr>\n",
              "  </tbody>\n",
              "</table>\n",
              "</div>"
            ],
            "text/plain": [
              "                      porosity  matrixperm  acousticimpedance  \\\n",
              "porosity              1.000000    0.760546          -0.461549   \n",
              "matrixperm            0.760546    1.000000          -0.239636   \n",
              "acousticimpedance    -0.461549   -0.239636           1.000000   \n",
              "brittlenessratio     -0.218570   -0.124017           0.127599   \n",
              "toc                   0.710718    0.472598          -0.529581   \n",
              "vitrinitereflectance  0.111860    0.051023           0.499143   \n",
              "productivitymetric    0.861910    0.727426          -0.390835   \n",
              "\n",
              "                      brittlenessratio       toc  vitrinitereflectance  \\\n",
              "porosity                     -0.218570  0.710718              0.111860   \n",
              "matrixperm                   -0.124017  0.472598              0.051023   \n",
              "acousticimpedance             0.127599 -0.529581              0.499143   \n",
              "brittlenessratio              1.000000 -0.212520              0.317929   \n",
              "toc                          -0.212520  1.000000              0.300523   \n",
              "vitrinitereflectance          0.317929  0.300523              1.000000   \n",
              "productivitymetric            0.237155  0.654632              0.323182   \n",
              "\n",
              "                      productivitymetric  \n",
              "porosity                        0.861910  \n",
              "matrixperm                      0.727426  \n",
              "acousticimpedance              -0.390835  \n",
              "brittlenessratio                0.237155  \n",
              "toc                             0.654632  \n",
              "vitrinitereflectance            0.323182  \n",
              "productivitymetric              1.000000  "
            ]
          },
          "execution_count": 12,
          "metadata": {},
          "output_type": "execute_result"
        }
      ],
      "source": [
        "df.corr(method='pearson')"
      ]
    },
    {
      "cell_type": "markdown",
      "metadata": {
        "id": "AbvGDqGmBSaQ"
      },
      "source": [
        "Correlation matrix can be represented in color-coded **heatmap plot** (using `heatmap` from seaborn)"
      ]
    },
    {
      "cell_type": "code",
      "execution_count": 13,
      "metadata": {
        "colab": {
          "base_uri": "https://localhost:8080/",
          "height": 374
        },
        "id": "zd-rVx_BoIe0",
        "outputId": "d7c7c378-e955-4dfd-838e-998570d99664"
      },
      "outputs": [
        {
          "data": {
            "text/plain": [
              "<Axes: >"
            ]
          },
          "execution_count": 13,
          "metadata": {},
          "output_type": "execute_result"
        },
        {
          "data": {
            "image/png": "[encoded data removed]",
            "text/plain": [
              "<Figure size 640x480 with 2 Axes>"
            ]
          },
          "metadata": {},
          "output_type": "display_data"
        }
      ],
      "source": [
        "sns.heatmap(df.corr(method='pearson'), annot=True)"
      ]
    },
    {
      "cell_type": "markdown",
      "metadata": {
        "id": "Jj5wWfNBJo2d"
      },
      "source": [
        "### Addressing multi co-linearity problem"
      ]
    },
    {
      "cell_type": "markdown",
      "metadata": {
        "id": "hc8RUDpNExZf"
      },
      "source": [
        "Based on the heat map above we can see that:\n",
        "* Productivity metric (dependent variable) is strongly correlated with porosity, matrix permeability, and TOC\n",
        "* Porosity, matrix permeability, and TOC are strongly correlated with each others. Thus, indicating collinear independent variables.\n",
        "\n",
        "Literature study:\n",
        "* TOC content has linear relations with density logging and gamma-ray logging.\n",
        "* Porosity and permeability are related to each other from petrophysical correlation\n",
        "\n",
        "Therefore, we will drop two out of three potentially collinear independent variables:\n",
        "* Total Organic Carbon (TOC)\n",
        "* Matrix Permeability"
      ]
    },
    {
      "cell_type": "markdown",
      "metadata": {
        "id": "oJRADkeQJC_N"
      },
      "source": [
        "Use `drop` method from pandas with `inplace=True` to reuse the `df` and permanently drop those two features"
      ]
    },
    {
      "cell_type": "code",
      "execution_count": 14,
      "metadata": {
        "colab": {
          "base_uri": "https://localhost:8080/",
          "height": 488
        },
        "id": "xHpccWCSpHAL",
        "outputId": "bf60efd1-9ef3-43ea-fd74-40908f45cb65"
      },
      "outputs": [
        {
          "data": {
            "text/html": [
              "<div>\n",
              "<style scoped>\n",
              "    .dataframe tbody tr th:only-of-type {\n",
              "        vertical-align: middle;\n",
              "    }\n",
              "\n",
              "    .dataframe tbody tr th {\n",
              "        vertical-align: top;\n",
              "    }\n",
              "\n",
              "    .dataframe thead th {\n",
              "        text-align: right;\n",
              "    }\n",
              "</style>\n",
              "<table border=\"1\" class=\"dataframe\">\n",
              "  <thead>\n",
              "    <tr style=\"text-align: right;\">\n",
              "      <th></th>\n",
              "      <th>porosity</th>\n",
              "      <th>acousticimpedance</th>\n",
              "      <th>brittlenessratio</th>\n",
              "      <th>vitrinitereflectance</th>\n",
              "      <th>productivitymetric</th>\n",
              "    </tr>\n",
              "  </thead>\n",
              "  <tbody>\n",
              "    <tr>\n",
              "      <th>0</th>\n",
              "      <td>8.456</td>\n",
              "      <td>3.080</td>\n",
              "      <td>97.680</td>\n",
              "      <td>1.848</td>\n",
              "      <td>48.306469</td>\n",
              "    </tr>\n",
              "    <tr>\n",
              "      <th>1</th>\n",
              "      <td>8.666</td>\n",
              "      <td>3.542</td>\n",
              "      <td>55.404</td>\n",
              "      <td>1.504</td>\n",
              "      <td>41.300912</td>\n",
              "    </tr>\n",
              "    <tr>\n",
              "      <th>2</th>\n",
              "      <td>9.814</td>\n",
              "      <td>4.411</td>\n",
              "      <td>87.360</td>\n",
              "      <td>2.176</td>\n",
              "      <td>49.688356</td>\n",
              "    </tr>\n",
              "    <tr>\n",
              "      <th>3</th>\n",
              "      <td>12.369</td>\n",
              "      <td>2.893</td>\n",
              "      <td>47.772</td>\n",
              "      <td>1.504</td>\n",
              "      <td>59.132694</td>\n",
              "    </tr>\n",
              "    <tr>\n",
              "      <th>4</th>\n",
              "      <td>12.264</td>\n",
              "      <td>3.498</td>\n",
              "      <td>13.128</td>\n",
              "      <td>1.520</td>\n",
              "      <td>39.503121</td>\n",
              "    </tr>\n",
              "    <tr>\n",
              "      <th>...</th>\n",
              "      <td>...</td>\n",
              "      <td>...</td>\n",
              "      <td>...</td>\n",
              "      <td>...</td>\n",
              "      <td>...</td>\n",
              "    </tr>\n",
              "    <tr>\n",
              "      <th>195</th>\n",
              "      <td>8.365</td>\n",
              "      <td>3.267</td>\n",
              "      <td>80.616</td>\n",
              "      <td>1.648</td>\n",
              "      <td>44.622765</td>\n",
              "    </tr>\n",
              "    <tr>\n",
              "      <th>196</th>\n",
              "      <td>12.593</td>\n",
              "      <td>3.718</td>\n",
              "      <td>53.184</td>\n",
              "      <td>1.664</td>\n",
              "      <td>64.961047</td>\n",
              "    </tr>\n",
              "    <tr>\n",
              "      <th>197</th>\n",
              "      <td>8.484</td>\n",
              "      <td>3.872</td>\n",
              "      <td>68.484</td>\n",
              "      <td>1.384</td>\n",
              "      <td>39.543047</td>\n",
              "    </tr>\n",
              "    <tr>\n",
              "      <th>198</th>\n",
              "      <td>10.885</td>\n",
              "      <td>2.728</td>\n",
              "      <td>69.900</td>\n",
              "      <td>1.880</td>\n",
              "      <td>59.004091</td>\n",
              "    </tr>\n",
              "    <tr>\n",
              "      <th>199</th>\n",
              "      <td>14.623</td>\n",
              "      <td>3.553</td>\n",
              "      <td>55.404</td>\n",
              "      <td>1.816</td>\n",
              "      <td>77.270733</td>\n",
              "    </tr>\n",
              "  </tbody>\n",
              "</table>\n",
              "<p>200 rows × 5 columns</p>\n",
              "</div>"
            ],
            "text/plain": [
              "     porosity  acousticimpedance  brittlenessratio  vitrinitereflectance  \\\n",
              "0       8.456              3.080            97.680                 1.848   \n",
              "1       8.666              3.542            55.404                 1.504   \n",
              "2       9.814              4.411            87.360                 2.176   \n",
              "3      12.369              2.893            47.772                 1.504   \n",
              "4      12.264              3.498            13.128                 1.520   \n",
              "..        ...                ...               ...                   ...   \n",
              "195     8.365              3.267            80.616                 1.648   \n",
              "196    12.593              3.718            53.184                 1.664   \n",
              "197     8.484              3.872            68.484                 1.384   \n",
              "198    10.885              2.728            69.900                 1.880   \n",
              "199    14.623              3.553            55.404                 1.816   \n",
              "\n",
              "     productivitymetric  \n",
              "0             48.306469  \n",
              "1             41.300912  \n",
              "2             49.688356  \n",
              "3             59.132694  \n",
              "4             39.503121  \n",
              "..                  ...  \n",
              "195           44.622765  \n",
              "196           64.961047  \n",
              "197           39.543047  \n",
              "198           59.004091  \n",
              "199           77.270733  \n",
              "\n",
              "[200 rows x 5 columns]"
            ]
          },
          "execution_count": 14,
          "metadata": {},
          "output_type": "execute_result"
        }
      ],
      "source": [
        "df.drop(labels=['toc', 'matrixperm'], axis=1, inplace=True)\n",
        "df"
      ]
    },
    {
      "cell_type": "markdown",
      "metadata": {
        "id": "rjVUe5YWIW3C"
      },
      "source": [
        "Now let's make sure that no co-linear independent variables using heatmap "
      ]
    },
    {
      "cell_type": "code",
      "execution_count": 15,
      "metadata": {
        "colab": {
          "base_uri": "https://localhost:8080/",
          "height": 374
        },
        "id": "VV53cF2up0Z1",
        "outputId": "b672cbe7-cd20-440c-8e6f-d4af27aa09a7"
      },
      "outputs": [
        {
          "data": {
            "text/plain": [
              "<Axes: >"
            ]
          },
          "execution_count": 15,
          "metadata": {},
          "output_type": "execute_result"
        },
        {
          "data": {
            "image/png": "[encoded data removed]",
            "text/plain": [
              "<Figure size 640x480 with 2 Axes>"
            ]
          },
          "metadata": {},
          "output_type": "display_data"
        }
      ],
      "source": [
        "sns.heatmap(df.corr(method=\"pearson\"), annot=True)"
      ]
    },
    {
      "cell_type": "markdown",
      "metadata": {
        "id": "kaQOI0LoKP38"
      },
      "source": [
        "## Data Preprocessing"
      ]
    },
    {
      "cell_type": "markdown",
      "metadata": {
        "id": "XPJ4InX6KigC"
      },
      "source": [
        "### Creating feature matrix and output matrix"
      ]
    },
    {
      "cell_type": "markdown",
      "metadata": {
        "id": "NlIzJcncah50"
      },
      "source": [
        "Here, we will create two matrices:\n",
        "* `X` data frame consisting feature (independent variable) columns\n",
        "* `y` data frame consist of dependent variable (last column in `df` data frame) "
      ]
    },
    {
      "cell_type": "code",
      "execution_count": 16,
      "metadata": {
        "id": "y25Kw32KqOPv"
      },
      "outputs": [],
      "source": [
        "X = df.drop(labels=['productivitymetric'], axis=1)\n",
        "y = df['productivitymetric']"
      ]
    },
    {
      "cell_type": "code",
      "execution_count": 17,
      "metadata": {},
      "outputs": [
        {
          "data": {
            "text/html": [
              "<div>\n",
              "<style scoped>\n",
              "    .dataframe tbody tr th:only-of-type {\n",
              "        vertical-align: middle;\n",
              "    }\n",
              "\n",
              "    .dataframe tbody tr th {\n",
              "        vertical-align: top;\n",
              "    }\n",
              "\n",
              "    .dataframe thead th {\n",
              "        text-align: right;\n",
              "    }\n",
              "</style>\n",
              "<table border=\"1\" class=\"dataframe\">\n",
              "  <thead>\n",
              "    <tr style=\"text-align: right;\">\n",
              "      <th></th>\n",
              "      <th>porosity</th>\n",
              "      <th>acousticimpedance</th>\n",
              "      <th>brittlenessratio</th>\n",
              "      <th>vitrinitereflectance</th>\n",
              "    </tr>\n",
              "  </thead>\n",
              "  <tbody>\n",
              "    <tr>\n",
              "      <th>0</th>\n",
              "      <td>8.456</td>\n",
              "      <td>3.080</td>\n",
              "      <td>97.680</td>\n",
              "      <td>1.848</td>\n",
              "    </tr>\n",
              "    <tr>\n",
              "      <th>1</th>\n",
              "      <td>8.666</td>\n",
              "      <td>3.542</td>\n",
              "      <td>55.404</td>\n",
              "      <td>1.504</td>\n",
              "    </tr>\n",
              "    <tr>\n",
              "      <th>2</th>\n",
              "      <td>9.814</td>\n",
              "      <td>4.411</td>\n",
              "      <td>87.360</td>\n",
              "      <td>2.176</td>\n",
              "    </tr>\n",
              "    <tr>\n",
              "      <th>3</th>\n",
              "      <td>12.369</td>\n",
              "      <td>2.893</td>\n",
              "      <td>47.772</td>\n",
              "      <td>1.504</td>\n",
              "    </tr>\n",
              "    <tr>\n",
              "      <th>4</th>\n",
              "      <td>12.264</td>\n",
              "      <td>3.498</td>\n",
              "      <td>13.128</td>\n",
              "      <td>1.520</td>\n",
              "    </tr>\n",
              "    <tr>\n",
              "      <th>...</th>\n",
              "      <td>...</td>\n",
              "      <td>...</td>\n",
              "      <td>...</td>\n",
              "      <td>...</td>\n",
              "    </tr>\n",
              "    <tr>\n",
              "      <th>195</th>\n",
              "      <td>8.365</td>\n",
              "      <td>3.267</td>\n",
              "      <td>80.616</td>\n",
              "      <td>1.648</td>\n",
              "    </tr>\n",
              "    <tr>\n",
              "      <th>196</th>\n",
              "      <td>12.593</td>\n",
              "      <td>3.718</td>\n",
              "      <td>53.184</td>\n",
              "      <td>1.664</td>\n",
              "    </tr>\n",
              "    <tr>\n",
              "      <th>197</th>\n",
              "      <td>8.484</td>\n",
              "      <td>3.872</td>\n",
              "      <td>68.484</td>\n",
              "      <td>1.384</td>\n",
              "    </tr>\n",
              "    <tr>\n",
              "      <th>198</th>\n",
              "      <td>10.885</td>\n",
              "      <td>2.728</td>\n",
              "      <td>69.900</td>\n",
              "      <td>1.880</td>\n",
              "    </tr>\n",
              "    <tr>\n",
              "      <th>199</th>\n",
              "      <td>14.623</td>\n",
              "      <td>3.553</td>\n",
              "      <td>55.404</td>\n",
              "      <td>1.816</td>\n",
              "    </tr>\n",
              "  </tbody>\n",
              "</table>\n",
              "<p>200 rows × 4 columns</p>\n",
              "</div>"
            ],
            "text/plain": [
              "     porosity  acousticimpedance  brittlenessratio  vitrinitereflectance\n",
              "0       8.456              3.080            97.680                 1.848\n",
              "1       8.666              3.542            55.404                 1.504\n",
              "2       9.814              4.411            87.360                 2.176\n",
              "3      12.369              2.893            47.772                 1.504\n",
              "4      12.264              3.498            13.128                 1.520\n",
              "..        ...                ...               ...                   ...\n",
              "195     8.365              3.267            80.616                 1.648\n",
              "196    12.593              3.718            53.184                 1.664\n",
              "197     8.484              3.872            68.484                 1.384\n",
              "198    10.885              2.728            69.900                 1.880\n",
              "199    14.623              3.553            55.404                 1.816\n",
              "\n",
              "[200 rows x 4 columns]"
            ]
          },
          "execution_count": 17,
          "metadata": {},
          "output_type": "execute_result"
        }
      ],
      "source": [
        "X"
      ]
    },
    {
      "cell_type": "code",
      "execution_count": 18,
      "metadata": {
        "colab": {
          "base_uri": "https://localhost:8080/"
        },
        "id": "xD7AK93UqvKI",
        "outputId": "56e13902-da92-4214-9c4f-e96096c3a5fb"
      },
      "outputs": [
        {
          "data": {
            "text/plain": [
              "0      48.306469\n",
              "1      41.300912\n",
              "2      49.688356\n",
              "3      59.132694\n",
              "4      39.503121\n",
              "         ...    \n",
              "195    44.622765\n",
              "196    64.961047\n",
              "197    39.543047\n",
              "198    59.004091\n",
              "199    77.270733\n",
              "Name: productivitymetric, Length: 200, dtype: float64"
            ]
          },
          "execution_count": 18,
          "metadata": {},
          "output_type": "execute_result"
        }
      ],
      "source": [
        "y"
      ]
    },
    {
      "cell_type": "markdown",
      "metadata": {
        "id": "9hB6qam7LnJr"
      },
      "source": [
        "### Splitting the dataset into the Training set and Test set\n",
        "\n",
        "Here we can use `train_test_split` method of `model_selection` module from `sklearn` library. At this step, we will have 4 (four) new dataframe:\n",
        "* `X_train`\n",
        "* `X_test`\n",
        "* `y_train`\n",
        "* `y_test`\n",
        "\n",
        "Given that the `test_size` is 0.2 (or 20% of our original dataset will be used as test set)"
      ]
    },
    {
      "cell_type": "code",
      "execution_count": 19,
      "metadata": {
        "id": "1XJqy1vQtbDv"
      },
      "outputs": [],
      "source": [
        "from sklearn.model_selection import train_test_split\n",
        "X_train, X_test, y_train, y_test = train_test_split(X, y, test_size=0.2, random_state=1)"
      ]
    },
    {
      "cell_type": "code",
      "execution_count": 20,
      "metadata": {},
      "outputs": [
        {
          "data": {
            "text/html": [
              "<div>\n",
              "<style scoped>\n",
              "    .dataframe tbody tr th:only-of-type {\n",
              "        vertical-align: middle;\n",
              "    }\n",
              "\n",
              "    .dataframe tbody tr th {\n",
              "        vertical-align: top;\n",
              "    }\n",
              "\n",
              "    .dataframe thead th {\n",
              "        text-align: right;\n",
              "    }\n",
              "</style>\n",
              "<table border=\"1\" class=\"dataframe\">\n",
              "  <thead>\n",
              "    <tr style=\"text-align: right;\">\n",
              "      <th></th>\n",
              "      <th>porosity</th>\n",
              "      <th>acousticimpedance</th>\n",
              "      <th>brittlenessratio</th>\n",
              "      <th>vitrinitereflectance</th>\n",
              "    </tr>\n",
              "  </thead>\n",
              "  <tbody>\n",
              "    <tr>\n",
              "      <th>108</th>\n",
              "      <td>14.602</td>\n",
              "      <td>2.783</td>\n",
              "      <td>48.684</td>\n",
              "      <td>1.944</td>\n",
              "    </tr>\n",
              "    <tr>\n",
              "      <th>107</th>\n",
              "      <td>12.019</td>\n",
              "      <td>2.585</td>\n",
              "      <td>45.696</td>\n",
              "      <td>1.576</td>\n",
              "    </tr>\n",
              "    <tr>\n",
              "      <th>189</th>\n",
              "      <td>11.284</td>\n",
              "      <td>2.662</td>\n",
              "      <td>43.008</td>\n",
              "      <td>1.472</td>\n",
              "    </tr>\n",
              "    <tr>\n",
              "      <th>14</th>\n",
              "      <td>9.681</td>\n",
              "      <td>2.761</td>\n",
              "      <td>79.464</td>\n",
              "      <td>1.312</td>\n",
              "    </tr>\n",
              "    <tr>\n",
              "      <th>56</th>\n",
              "      <td>9.569</td>\n",
              "      <td>3.179</td>\n",
              "      <td>34.428</td>\n",
              "      <td>1.384</td>\n",
              "    </tr>\n",
              "    <tr>\n",
              "      <th>...</th>\n",
              "      <td>...</td>\n",
              "      <td>...</td>\n",
              "      <td>...</td>\n",
              "      <td>...</td>\n",
              "    </tr>\n",
              "    <tr>\n",
              "      <th>133</th>\n",
              "      <td>13.153</td>\n",
              "      <td>3.927</td>\n",
              "      <td>42.888</td>\n",
              "      <td>1.840</td>\n",
              "    </tr>\n",
              "    <tr>\n",
              "      <th>137</th>\n",
              "      <td>10.283</td>\n",
              "      <td>2.629</td>\n",
              "      <td>75.516</td>\n",
              "      <td>1.544</td>\n",
              "    </tr>\n",
              "    <tr>\n",
              "      <th>72</th>\n",
              "      <td>10.395</td>\n",
              "      <td>3.993</td>\n",
              "      <td>53.916</td>\n",
              "      <td>1.640</td>\n",
              "    </tr>\n",
              "    <tr>\n",
              "      <th>140</th>\n",
              "      <td>13.125</td>\n",
              "      <td>1.595</td>\n",
              "      <td>69.660</td>\n",
              "      <td>1.240</td>\n",
              "    </tr>\n",
              "    <tr>\n",
              "      <th>37</th>\n",
              "      <td>11.585</td>\n",
              "      <td>2.508</td>\n",
              "      <td>76.068</td>\n",
              "      <td>1.568</td>\n",
              "    </tr>\n",
              "  </tbody>\n",
              "</table>\n",
              "<p>160 rows × 4 columns</p>\n",
              "</div>"
            ],
            "text/plain": [
              "     porosity  acousticimpedance  brittlenessratio  vitrinitereflectance\n",
              "108    14.602              2.783            48.684                 1.944\n",
              "107    12.019              2.585            45.696                 1.576\n",
              "189    11.284              2.662            43.008                 1.472\n",
              "14      9.681              2.761            79.464                 1.312\n",
              "56      9.569              3.179            34.428                 1.384\n",
              "..        ...                ...               ...                   ...\n",
              "133    13.153              3.927            42.888                 1.840\n",
              "137    10.283              2.629            75.516                 1.544\n",
              "72     10.395              3.993            53.916                 1.640\n",
              "140    13.125              1.595            69.660                 1.240\n",
              "37     11.585              2.508            76.068                 1.568\n",
              "\n",
              "[160 rows x 4 columns]"
            ]
          },
          "execution_count": 20,
          "metadata": {},
          "output_type": "execute_result"
        }
      ],
      "source": [
        "X_train"
      ]
    },
    {
      "cell_type": "code",
      "execution_count": 21,
      "metadata": {},
      "outputs": [
        {
          "data": {
            "text/html": [
              "<div>\n",
              "<style scoped>\n",
              "    .dataframe tbody tr th:only-of-type {\n",
              "        vertical-align: middle;\n",
              "    }\n",
              "\n",
              "    .dataframe tbody tr th {\n",
              "        vertical-align: top;\n",
              "    }\n",
              "\n",
              "    .dataframe thead th {\n",
              "        text-align: right;\n",
              "    }\n",
              "</style>\n",
              "<table border=\"1\" class=\"dataframe\">\n",
              "  <thead>\n",
              "    <tr style=\"text-align: right;\">\n",
              "      <th></th>\n",
              "      <th>porosity</th>\n",
              "      <th>acousticimpedance</th>\n",
              "      <th>brittlenessratio</th>\n",
              "      <th>vitrinitereflectance</th>\n",
              "    </tr>\n",
              "  </thead>\n",
              "  <tbody>\n",
              "    <tr>\n",
              "      <th>58</th>\n",
              "      <td>11.270</td>\n",
              "      <td>2.376</td>\n",
              "      <td>32.124</td>\n",
              "      <td>1.032</td>\n",
              "    </tr>\n",
              "    <tr>\n",
              "      <th>40</th>\n",
              "      <td>10.059</td>\n",
              "      <td>3.278</td>\n",
              "      <td>57.144</td>\n",
              "      <td>1.496</td>\n",
              "    </tr>\n",
              "    <tr>\n",
              "      <th>34</th>\n",
              "      <td>8.232</td>\n",
              "      <td>4.598</td>\n",
              "      <td>73.452</td>\n",
              "      <td>1.960</td>\n",
              "    </tr>\n",
              "    <tr>\n",
              "      <th>102</th>\n",
              "      <td>7.350</td>\n",
              "      <td>4.059</td>\n",
              "      <td>73.308</td>\n",
              "      <td>1.736</td>\n",
              "    </tr>\n",
              "    <tr>\n",
              "      <th>184</th>\n",
              "      <td>12.649</td>\n",
              "      <td>3.179</td>\n",
              "      <td>34.404</td>\n",
              "      <td>1.680</td>\n",
              "    </tr>\n",
              "    <tr>\n",
              "      <th>198</th>\n",
              "      <td>10.885</td>\n",
              "      <td>2.728</td>\n",
              "      <td>69.900</td>\n",
              "      <td>1.880</td>\n",
              "    </tr>\n",
              "    <tr>\n",
              "      <th>95</th>\n",
              "      <td>12.572</td>\n",
              "      <td>3.157</td>\n",
              "      <td>59.292</td>\n",
              "      <td>1.608</td>\n",
              "    </tr>\n",
              "    <tr>\n",
              "      <th>4</th>\n",
              "      <td>12.264</td>\n",
              "      <td>3.498</td>\n",
              "      <td>13.128</td>\n",
              "      <td>1.520</td>\n",
              "    </tr>\n",
              "    <tr>\n",
              "      <th>29</th>\n",
              "      <td>9.023</td>\n",
              "      <td>3.190</td>\n",
              "      <td>61.488</td>\n",
              "      <td>1.576</td>\n",
              "    </tr>\n",
              "    <tr>\n",
              "      <th>168</th>\n",
              "      <td>13.272</td>\n",
              "      <td>2.387</td>\n",
              "      <td>35.136</td>\n",
              "      <td>1.560</td>\n",
              "    </tr>\n",
              "    <tr>\n",
              "      <th>171</th>\n",
              "      <td>12.208</td>\n",
              "      <td>3.784</td>\n",
              "      <td>68.796</td>\n",
              "      <td>1.904</td>\n",
              "    </tr>\n",
              "    <tr>\n",
              "      <th>18</th>\n",
              "      <td>10.311</td>\n",
              "      <td>3.333</td>\n",
              "      <td>80.904</td>\n",
              "      <td>1.584</td>\n",
              "    </tr>\n",
              "    <tr>\n",
              "      <th>11</th>\n",
              "      <td>11.333</td>\n",
              "      <td>2.519</td>\n",
              "      <td>58.920</td>\n",
              "      <td>1.488</td>\n",
              "    </tr>\n",
              "    <tr>\n",
              "      <th>89</th>\n",
              "      <td>9.450</td>\n",
              "      <td>4.334</td>\n",
              "      <td>44.016</td>\n",
              "      <td>2.080</td>\n",
              "    </tr>\n",
              "    <tr>\n",
              "      <th>110</th>\n",
              "      <td>10.465</td>\n",
              "      <td>2.959</td>\n",
              "      <td>90.876</td>\n",
              "      <td>1.440</td>\n",
              "    </tr>\n",
              "    <tr>\n",
              "      <th>118</th>\n",
              "      <td>8.561</td>\n",
              "      <td>3.322</td>\n",
              "      <td>48.804</td>\n",
              "      <td>1.472</td>\n",
              "    </tr>\n",
              "    <tr>\n",
              "      <th>159</th>\n",
              "      <td>12.670</td>\n",
              "      <td>3.674</td>\n",
              "      <td>67.308</td>\n",
              "      <td>1.720</td>\n",
              "    </tr>\n",
              "    <tr>\n",
              "      <th>35</th>\n",
              "      <td>8.386</td>\n",
              "      <td>3.487</td>\n",
              "      <td>32.544</td>\n",
              "      <td>1.352</td>\n",
              "    </tr>\n",
              "    <tr>\n",
              "      <th>136</th>\n",
              "      <td>10.416</td>\n",
              "      <td>3.817</td>\n",
              "      <td>61.548</td>\n",
              "      <td>1.416</td>\n",
              "    </tr>\n",
              "    <tr>\n",
              "      <th>59</th>\n",
              "      <td>9.100</td>\n",
              "      <td>3.410</td>\n",
              "      <td>77.448</td>\n",
              "      <td>1.368</td>\n",
              "    </tr>\n",
              "    <tr>\n",
              "      <th>51</th>\n",
              "      <td>14.672</td>\n",
              "      <td>2.695</td>\n",
              "      <td>40.608</td>\n",
              "      <td>1.472</td>\n",
              "    </tr>\n",
              "    <tr>\n",
              "      <th>16</th>\n",
              "      <td>13.685</td>\n",
              "      <td>3.388</td>\n",
              "      <td>42.588</td>\n",
              "      <td>1.560</td>\n",
              "    </tr>\n",
              "    <tr>\n",
              "      <th>44</th>\n",
              "      <td>12.859</td>\n",
              "      <td>2.816</td>\n",
              "      <td>53.064</td>\n",
              "      <td>1.872</td>\n",
              "    </tr>\n",
              "    <tr>\n",
              "      <th>94</th>\n",
              "      <td>11.025</td>\n",
              "      <td>3.102</td>\n",
              "      <td>84.816</td>\n",
              "      <td>1.632</td>\n",
              "    </tr>\n",
              "    <tr>\n",
              "      <th>31</th>\n",
              "      <td>10.318</td>\n",
              "      <td>2.695</td>\n",
              "      <td>44.232</td>\n",
              "      <td>1.272</td>\n",
              "    </tr>\n",
              "    <tr>\n",
              "      <th>162</th>\n",
              "      <td>12.502</td>\n",
              "      <td>2.750</td>\n",
              "      <td>31.464</td>\n",
              "      <td>0.744</td>\n",
              "    </tr>\n",
              "    <tr>\n",
              "      <th>38</th>\n",
              "      <td>10.654</td>\n",
              "      <td>3.872</td>\n",
              "      <td>50.688</td>\n",
              "      <td>1.808</td>\n",
              "    </tr>\n",
              "    <tr>\n",
              "      <th>28</th>\n",
              "      <td>8.666</td>\n",
              "      <td>4.499</td>\n",
              "      <td>37.680</td>\n",
              "      <td>1.656</td>\n",
              "    </tr>\n",
              "    <tr>\n",
              "      <th>193</th>\n",
              "      <td>9.044</td>\n",
              "      <td>4.048</td>\n",
              "      <td>85.680</td>\n",
              "      <td>1.528</td>\n",
              "    </tr>\n",
              "    <tr>\n",
              "      <th>27</th>\n",
              "      <td>11.011</td>\n",
              "      <td>4.114</td>\n",
              "      <td>38.280</td>\n",
              "      <td>1.720</td>\n",
              "    </tr>\n",
              "    <tr>\n",
              "      <th>47</th>\n",
              "      <td>8.295</td>\n",
              "      <td>3.586</td>\n",
              "      <td>29.712</td>\n",
              "      <td>1.104</td>\n",
              "    </tr>\n",
              "    <tr>\n",
              "      <th>165</th>\n",
              "      <td>11.627</td>\n",
              "      <td>2.013</td>\n",
              "      <td>72.156</td>\n",
              "      <td>1.488</td>\n",
              "    </tr>\n",
              "    <tr>\n",
              "      <th>194</th>\n",
              "      <td>11.991</td>\n",
              "      <td>3.168</td>\n",
              "      <td>61.740</td>\n",
              "      <td>1.824</td>\n",
              "    </tr>\n",
              "    <tr>\n",
              "      <th>177</th>\n",
              "      <td>8.260</td>\n",
              "      <td>4.004</td>\n",
              "      <td>42.420</td>\n",
              "      <td>1.408</td>\n",
              "    </tr>\n",
              "    <tr>\n",
              "      <th>176</th>\n",
              "      <td>10.143</td>\n",
              "      <td>3.300</td>\n",
              "      <td>27.048</td>\n",
              "      <td>1.592</td>\n",
              "    </tr>\n",
              "    <tr>\n",
              "      <th>97</th>\n",
              "      <td>13.811</td>\n",
              "      <td>2.893</td>\n",
              "      <td>59.892</td>\n",
              "      <td>1.688</td>\n",
              "    </tr>\n",
              "    <tr>\n",
              "      <th>174</th>\n",
              "      <td>11.004</td>\n",
              "      <td>2.761</td>\n",
              "      <td>42.108</td>\n",
              "      <td>1.560</td>\n",
              "    </tr>\n",
              "    <tr>\n",
              "      <th>73</th>\n",
              "      <td>11.634</td>\n",
              "      <td>2.541</td>\n",
              "      <td>37.692</td>\n",
              "      <td>1.232</td>\n",
              "    </tr>\n",
              "    <tr>\n",
              "      <th>69</th>\n",
              "      <td>8.778</td>\n",
              "      <td>3.949</td>\n",
              "      <td>69.636</td>\n",
              "      <td>1.624</td>\n",
              "    </tr>\n",
              "    <tr>\n",
              "      <th>172</th>\n",
              "      <td>7.665</td>\n",
              "      <td>4.037</td>\n",
              "      <td>56.472</td>\n",
              "      <td>1.544</td>\n",
              "    </tr>\n",
              "  </tbody>\n",
              "</table>\n",
              "</div>"
            ],
            "text/plain": [
              "     porosity  acousticimpedance  brittlenessratio  vitrinitereflectance\n",
              "58     11.270              2.376            32.124                 1.032\n",
              "40     10.059              3.278            57.144                 1.496\n",
              "34      8.232              4.598            73.452                 1.960\n",
              "102     7.350              4.059            73.308                 1.736\n",
              "184    12.649              3.179            34.404                 1.680\n",
              "198    10.885              2.728            69.900                 1.880\n",
              "95     12.572              3.157            59.292                 1.608\n",
              "4      12.264              3.498            13.128                 1.520\n",
              "29      9.023              3.190            61.488                 1.576\n",
              "168    13.272              2.387            35.136                 1.560\n",
              "171    12.208              3.784            68.796                 1.904\n",
              "18     10.311              3.333            80.904                 1.584\n",
              "11     11.333              2.519            58.920                 1.488\n",
              "89      9.450              4.334            44.016                 2.080\n",
              "110    10.465              2.959            90.876                 1.440\n",
              "118     8.561              3.322            48.804                 1.472\n",
              "159    12.670              3.674            67.308                 1.720\n",
              "35      8.386              3.487            32.544                 1.352\n",
              "136    10.416              3.817            61.548                 1.416\n",
              "59      9.100              3.410            77.448                 1.368\n",
              "51     14.672              2.695            40.608                 1.472\n",
              "16     13.685              3.388            42.588                 1.560\n",
              "44     12.859              2.816            53.064                 1.872\n",
              "94     11.025              3.102            84.816                 1.632\n",
              "31     10.318              2.695            44.232                 1.272\n",
              "162    12.502              2.750            31.464                 0.744\n",
              "38     10.654              3.872            50.688                 1.808\n",
              "28      8.666              4.499            37.680                 1.656\n",
              "193     9.044              4.048            85.680                 1.528\n",
              "27     11.011              4.114            38.280                 1.720\n",
              "47      8.295              3.586            29.712                 1.104\n",
              "165    11.627              2.013            72.156                 1.488\n",
              "194    11.991              3.168            61.740                 1.824\n",
              "177     8.260              4.004            42.420                 1.408\n",
              "176    10.143              3.300            27.048                 1.592\n",
              "97     13.811              2.893            59.892                 1.688\n",
              "174    11.004              2.761            42.108                 1.560\n",
              "73     11.634              2.541            37.692                 1.232\n",
              "69      8.778              3.949            69.636                 1.624\n",
              "172     7.665              4.037            56.472                 1.544"
            ]
          },
          "execution_count": 21,
          "metadata": {},
          "output_type": "execute_result"
        }
      ],
      "source": [
        "X_test"
      ]
    },
    {
      "cell_type": "code",
      "execution_count": 22,
      "metadata": {
        "colab": {
          "base_uri": "https://localhost:8080/",
          "height": 300
        },
        "id": "tCgzMnx1uF3-",
        "outputId": "3a16d37f-4514-4d9e-ecc6-38bdec295145"
      },
      "outputs": [
        {
          "data": {
            "text/html": [
              "<div>\n",
              "<style scoped>\n",
              "    .dataframe tbody tr th:only-of-type {\n",
              "        vertical-align: middle;\n",
              "    }\n",
              "\n",
              "    .dataframe tbody tr th {\n",
              "        vertical-align: top;\n",
              "    }\n",
              "\n",
              "    .dataframe thead th {\n",
              "        text-align: right;\n",
              "    }\n",
              "</style>\n",
              "<table border=\"1\" class=\"dataframe\">\n",
              "  <thead>\n",
              "    <tr style=\"text-align: right;\">\n",
              "      <th></th>\n",
              "      <th>porosity</th>\n",
              "      <th>acousticimpedance</th>\n",
              "      <th>brittlenessratio</th>\n",
              "      <th>vitrinitereflectance</th>\n",
              "    </tr>\n",
              "  </thead>\n",
              "  <tbody>\n",
              "    <tr>\n",
              "      <th>count</th>\n",
              "      <td>160.000000</td>\n",
              "      <td>160.000000</td>\n",
              "      <td>160.000000</td>\n",
              "      <td>160.000000</td>\n",
              "    </tr>\n",
              "    <tr>\n",
              "      <th>mean</th>\n",
              "      <td>10.441506</td>\n",
              "      <td>3.248919</td>\n",
              "      <td>58.814700</td>\n",
              "      <td>1.575550</td>\n",
              "    </tr>\n",
              "    <tr>\n",
              "      <th>std</th>\n",
              "      <td>2.131697</td>\n",
              "      <td>0.623437</td>\n",
              "      <td>16.401219</td>\n",
              "      <td>0.237698</td>\n",
              "    </tr>\n",
              "    <tr>\n",
              "      <th>min</th>\n",
              "      <td>4.585000</td>\n",
              "      <td>1.408000</td>\n",
              "      <td>17.088000</td>\n",
              "      <td>0.920000</td>\n",
              "    </tr>\n",
              "    <tr>\n",
              "      <th>25%</th>\n",
              "      <td>9.049250</td>\n",
              "      <td>2.802250</td>\n",
              "      <td>48.288000</td>\n",
              "      <td>1.404000</td>\n",
              "    </tr>\n",
              "    <tr>\n",
              "      <th>50%</th>\n",
              "      <td>10.538500</td>\n",
              "      <td>3.228500</td>\n",
              "      <td>61.530000</td>\n",
              "      <td>1.572000</td>\n",
              "    </tr>\n",
              "    <tr>\n",
              "      <th>75%</th>\n",
              "      <td>12.078500</td>\n",
              "      <td>3.638250</td>\n",
              "      <td>70.395000</td>\n",
              "      <td>1.714000</td>\n",
              "    </tr>\n",
              "    <tr>\n",
              "      <th>max</th>\n",
              "      <td>16.485000</td>\n",
              "      <td>5.093000</td>\n",
              "      <td>101.196000</td>\n",
              "      <td>2.296000</td>\n",
              "    </tr>\n",
              "  </tbody>\n",
              "</table>\n",
              "</div>"
            ],
            "text/plain": [
              "         porosity  acousticimpedance  brittlenessratio  vitrinitereflectance\n",
              "count  160.000000         160.000000        160.000000            160.000000\n",
              "mean    10.441506           3.248919         58.814700              1.575550\n",
              "std      2.131697           0.623437         16.401219              0.237698\n",
              "min      4.585000           1.408000         17.088000              0.920000\n",
              "25%      9.049250           2.802250         48.288000              1.404000\n",
              "50%     10.538500           3.228500         61.530000              1.572000\n",
              "75%     12.078500           3.638250         70.395000              1.714000\n",
              "max     16.485000           5.093000        101.196000              2.296000"
            ]
          },
          "execution_count": 22,
          "metadata": {},
          "output_type": "execute_result"
        }
      ],
      "source": [
        "X_train.describe()"
      ]
    },
    {
      "cell_type": "code",
      "execution_count": 23,
      "metadata": {
        "colab": {
          "base_uri": "https://localhost:8080/"
        },
        "id": "n-20_oTGuk16",
        "outputId": "db7d67c1-21be-4e04-f466-ac38ee38c12d"
      },
      "outputs": [
        {
          "data": {
            "text/plain": [
              "108    75.154377\n",
              "107    54.902856\n",
              "189    49.773646\n",
              "14     50.143215\n",
              "56     36.492318\n",
              "         ...    \n",
              "133    56.786676\n",
              "137    52.959498\n",
              "72     48.948525\n",
              "140    68.465289\n",
              "37     60.883297\n",
              "Name: productivitymetric, Length: 160, dtype: float64"
            ]
          },
          "execution_count": 23,
          "metadata": {},
          "output_type": "execute_result"
        }
      ],
      "source": [
        "y_train"
      ]
    },
    {
      "cell_type": "code",
      "execution_count": 24,
      "metadata": {
        "colab": {
          "base_uri": "https://localhost:8080/",
          "height": 300
        },
        "id": "XCWS439Iumzf",
        "outputId": "4926a1f7-c5bf-4aa2-c6f2-fcfb359359e7"
      },
      "outputs": [
        {
          "data": {
            "text/html": [
              "<div>\n",
              "<style scoped>\n",
              "    .dataframe tbody tr th:only-of-type {\n",
              "        vertical-align: middle;\n",
              "    }\n",
              "\n",
              "    .dataframe tbody tr th {\n",
              "        vertical-align: top;\n",
              "    }\n",
              "\n",
              "    .dataframe thead th {\n",
              "        text-align: right;\n",
              "    }\n",
              "</style>\n",
              "<table border=\"1\" class=\"dataframe\">\n",
              "  <thead>\n",
              "    <tr style=\"text-align: right;\">\n",
              "      <th></th>\n",
              "      <th>porosity</th>\n",
              "      <th>acousticimpedance</th>\n",
              "      <th>brittlenessratio</th>\n",
              "      <th>vitrinitereflectance</th>\n",
              "    </tr>\n",
              "  </thead>\n",
              "  <tbody>\n",
              "    <tr>\n",
              "      <th>count</th>\n",
              "      <td>40.000000</td>\n",
              "      <td>40.000000</td>\n",
              "      <td>40.000000</td>\n",
              "      <td>40.000000</td>\n",
              "    </tr>\n",
              "    <tr>\n",
              "      <th>mean</th>\n",
              "      <td>10.703000</td>\n",
              "      <td>3.333000</td>\n",
              "      <td>53.712900</td>\n",
              "      <td>1.555000</td>\n",
              "    </tr>\n",
              "    <tr>\n",
              "      <th>std</th>\n",
              "      <td>1.868104</td>\n",
              "      <td>0.627462</td>\n",
              "      <td>18.677673</td>\n",
              "      <td>0.254629</td>\n",
              "    </tr>\n",
              "    <tr>\n",
              "      <th>min</th>\n",
              "      <td>7.350000</td>\n",
              "      <td>2.013000</td>\n",
              "      <td>13.128000</td>\n",
              "      <td>0.744000</td>\n",
              "    </tr>\n",
              "    <tr>\n",
              "      <th>25%</th>\n",
              "      <td>9.038750</td>\n",
              "      <td>2.802250</td>\n",
              "      <td>38.133000</td>\n",
              "      <td>1.464000</td>\n",
              "    </tr>\n",
              "    <tr>\n",
              "      <th>50%</th>\n",
              "      <td>10.769500</td>\n",
              "      <td>3.311000</td>\n",
              "      <td>54.768000</td>\n",
              "      <td>1.560000</td>\n",
              "    </tr>\n",
              "    <tr>\n",
              "      <th>75%</th>\n",
              "      <td>12.222000</td>\n",
              "      <td>3.830750</td>\n",
              "      <td>69.006000</td>\n",
              "      <td>1.696000</td>\n",
              "    </tr>\n",
              "    <tr>\n",
              "      <th>max</th>\n",
              "      <td>14.672000</td>\n",
              "      <td>4.598000</td>\n",
              "      <td>90.876000</td>\n",
              "      <td>2.080000</td>\n",
              "    </tr>\n",
              "  </tbody>\n",
              "</table>\n",
              "</div>"
            ],
            "text/plain": [
              "        porosity  acousticimpedance  brittlenessratio  vitrinitereflectance\n",
              "count  40.000000          40.000000         40.000000             40.000000\n",
              "mean   10.703000           3.333000         53.712900              1.555000\n",
              "std     1.868104           0.627462         18.677673              0.254629\n",
              "min     7.350000           2.013000         13.128000              0.744000\n",
              "25%     9.038750           2.802250         38.133000              1.464000\n",
              "50%    10.769500           3.311000         54.768000              1.560000\n",
              "75%    12.222000           3.830750         69.006000              1.696000\n",
              "max    14.672000           4.598000         90.876000              2.080000"
            ]
          },
          "execution_count": 24,
          "metadata": {},
          "output_type": "execute_result"
        }
      ],
      "source": [
        "X_test.describe()"
      ]
    },
    {
      "cell_type": "markdown",
      "metadata": {
        "id": "-eV47O5SNvOo"
      },
      "source": [
        "### Feature Scaling"
      ]
    },
    {
      "cell_type": "markdown",
      "metadata": {
        "id": "alM400chXA3v"
      },
      "source": [
        "\n",
        "\n",
        "Feature scaling can be performed using `preprocessing` module from `sklearn`. In general, there are two types of feature scaling:\n",
        "* Standardization (using `StandardScaler` class)\n",
        "* Normalization (using `MinMaxScaler` class) \n",
        "\n",
        "Here, we will use standardization feature scaling using `StandardScaler` class described as below\n",
        "* `sc` is an instance of `StandardScaler` class. Also known as \"scaler\"\n",
        "* `fit` method will determine the mean and standard deviation of `X_train` data\n",
        "* a new Numpy array of `X_train_scaled` will be created by transforming `X_train` data frame based on scaler `sc` using `transform` method "
      ]
    },
    {
      "cell_type": "code",
      "execution_count": 25,
      "metadata": {
        "colab": {
          "base_uri": "https://localhost:8080/"
        },
        "id": "PfP25-mHwdms",
        "outputId": "81544344-5c51-4cd9-fc3e-a40f88f08e0c"
      },
      "outputs": [
        {
          "data": {
            "text/plain": [
              "array([[ 1.95785679e+00, -7.49685246e-01, -6.19619049e-01,\n",
              "         1.55494039e+00],\n",
              "       [ 7.42341423e-01, -1.06827659e+00, -8.02372632e-01,\n",
              "         1.89909941e-03],\n",
              "       [ 3.96463066e-01, -9.44379954e-01, -9.66777461e-01,\n",
              "        -4.37003875e-01],\n",
              "       [-3.57881159e-01, -7.85084284e-01,  1.26296304e+00,\n",
              "        -1.11223922e+00],\n",
              "       [-4.10586432e-01, -1.12502567e-01, -1.49155181e+00,\n",
              "        -8.08383314e-01],\n",
              "       [-8.05875983e-01,  1.03796616e+00, -1.41101913e-02,\n",
              "         1.92631983e+00],\n",
              "       [ 1.52303828e+00,  4.89281075e-01, -8.52281241e-01,\n",
              "        -5.72050944e-01],\n",
              "       [-1.24001508e-01, -1.61696167e+00,  1.26663279e+00,\n",
              "        -1.11223922e+00],\n",
              "       [ 2.51523564e-01,  1.44505509e+00,  6.48646777e-01,\n",
              "         1.28484625e+00],\n",
              "       [ 2.84396420e+00, -2.96212510e+00, -2.55210974e+00,\n",
              "        -2.46270991e+00],\n",
              "       [-9.90344440e-01, -1.20987274e+00, -1.19799010e-01,\n",
              "        -1.34857159e+00],\n",
              "       [-3.80939716e-01,  8.96370009e-01,  2.45708155e-01,\n",
              "        -2.68195039e-01],\n",
              "       [ 9.76221073e-01,  4.36182518e-01,  4.38718691e-02,\n",
              "         1.35236979e+00],\n",
              "       [-9.67285883e-01,  2.96721372e+00,  8.29198509e-01,\n",
              "         3.04045815e+00],\n",
              "       [-4.40233149e-01, -6.30545360e-03,  2.31029152e-01,\n",
              "         7.78419746e-01],\n",
              "       [-2.53526777e+00,  1.14416327e+00,  1.03323665e+00,\n",
              "        -1.01095392e+00],\n",
              "       [-1.43765986e-01,  1.07336520e+00, -1.15395309e-01,\n",
              "         4.74563841e-01],\n",
              "       [-4.73173945e-01, -4.17044913e-02,  4.61489494e-01,\n",
              "        -9.09668616e-01],\n",
              "       [ 1.96773903e+00,  4.89281075e-01, -2.08606976e-01,\n",
              "         1.01475212e+00],\n",
              "       [-2.35409339e+00, -2.71798237e-01, -6.43839404e-01,\n",
              "        -1.82123633e+00],\n",
              "       [-6.67524640e-01,  2.01143970e+00,  1.26222909e+00,\n",
              "         2.70284048e+00],\n",
              "       [-3.67763398e-01,  3.47684924e-01, -2.15212527e-01,\n",
              "         3.39516772e-01],\n",
              "       [-4.56703547e-01, -1.13907466e+00,  1.35764260e+00,\n",
              "        -1.01095392e+00],\n",
              "       [-1.57339653e+00,  2.31233152e+00,  9.45162630e-01,\n",
              "         1.89909941e-03],\n",
              "       [ 2.18582769e-01, -7.49685246e-01, -1.43723950e+00,\n",
              "        -3.01956806e-01],\n",
              "       [-1.27295588e-01, -4.66492944e-01,  3.36717971e-01,\n",
              "        -1.01095392e+00],\n",
              "       [ 3.10816997e-01, -3.77995350e-01,  1.81854494e-01,\n",
              "         6.09610910e-01],\n",
              "       [ 1.32936699e-01,  5.95478188e-01,  5.12132053e-01,\n",
              "         1.52117863e+00],\n",
              "       [ 1.21010072e+00, -7.71035291e-02,  1.37799137e-02,\n",
              "        -2.34433271e-01],\n",
              "       [-2.39294294e-01, -4.66492944e-01, -1.49081785e+00,\n",
              "        -4.70765642e-01],\n",
              "       [ 1.06845530e+00, -1.47536552e+00, -5.47691937e-01,\n",
              "         1.89909941e-03],\n",
              "       [-1.57010245e+00,  2.90935841e-02, -6.24022750e-01,\n",
              "        -7.07098013e-01],\n",
              "       [ 1.27927640e+00,  4.89281075e-01,  1.83911389e+00,\n",
              "         1.92631983e+00],\n",
              "       [-5.25879218e-01, -8.91281397e-01,  6.49380727e-01,\n",
              "        -7.74621547e-01],\n",
              "       [ 1.36492246e+00,  4.36182518e-01,  4.78370347e-01,\n",
              "         1.41989332e+00],\n",
              "       [ 1.62844883e+00, -3.24896793e-01, -2.62185336e-01,\n",
              "         3.73278539e-01],\n",
              "       [ 6.27048637e-01, -2.71798237e-01,  1.29452289e+00,\n",
              "         3.56608667e-02],\n",
              "       [ 9.34077443e-02,  4.36182518e-01, -4.68425322e-01,\n",
              "         8.79705048e-01],\n",
              "       [-1.39222215e+00,  9.49468565e-01,  2.59214672e+00,\n",
              "         1.89909941e-03],\n",
              "       [ 2.87758440e-01,  9.98916596e-02,  1.04424590e+00,\n",
              "         3.39516772e-01],\n",
              "       [ 1.65877495e-01, -2.71798237e-01, -2.20421738e+00,\n",
              "        -1.33147970e-01],\n",
              "       [-3.94116035e-01,  8.07872414e-01, -6.43839404e-01,\n",
              "         7.10896212e-01],\n",
              "       [ 4.16227544e-01,  1.52990216e-01, -5.58701188e-01,\n",
              "         1.36946168e-01],\n",
              "       [ 1.33856983e+00, -4.66492944e-01, -1.91726123e-01,\n",
              "        -1.01095392e+00],\n",
              "       [-2.75597110e+00,  2.08223777e+00,  5.63508562e-01,\n",
              "         4.40802074e-01],\n",
              "       [ 8.14811174e-01, -7.14286208e-01,  5.44425858e-01,\n",
              "         7.44657979e-01],\n",
              "       [ 5.05847096e-02,  7.72473377e-01,  5.64242512e-01,\n",
              "        -3.01956806e-01],\n",
              "       [-1.37575175e+00,  6.66276263e-01,  1.02222739e+00,\n",
              "        -2.68195039e-01],\n",
              "       [-1.32963464e+00,  2.01143970e+00,  4.46076541e-01,\n",
              "         1.45365509e+00],\n",
              "       [-6.80021555e-02, -9.97478510e-01, -1.66476404e+00,\n",
              "        -2.76656581e+00],\n",
              "       [ 2.02112371e-01, -5.54990539e-01,  1.13598966e+00,\n",
              "         4.40802074e-01],\n",
              "       [-4.46821308e-01,  1.12646375e+00, -4.44204968e-01,\n",
              "        -1.33147970e-01],\n",
              "       [ 1.01575003e+00, -2.20104579e+00, -1.50843266e+00,\n",
              "        -1.61866573e+00],\n",
              "       [ 1.19760381e-01, -1.17447370e+00, -1.04457618e+00,\n",
              "        -1.21352452e+00],\n",
              "       [ 6.46813115e-01, -8.91281397e-01,  1.23360503e+00,\n",
              "        -1.58490396e+00],\n",
              "       [ 1.31221719e+00, -5.37291020e-01, -2.22990564e+00,\n",
              "        -1.44985689e+00],\n",
              "       [-9.77168121e-01,  2.90935841e-02,  1.33342225e+00,\n",
              "         3.05755005e-01],\n",
              "       [-9.21168768e-01,  1.00256712e+00,  5.91398667e-01,\n",
              "        -8.08383314e-01],\n",
              "       [-4.79762104e-01,  1.52990216e-01,  5.56169061e-01,\n",
              "        -1.48361866e+00],\n",
              "       [-6.51054242e-01, -1.30202086e-01, -7.86959679e-01,\n",
              "        -9.93862023e-02],\n",
              "       [ 1.25621784e+00, -1.30202086e-01,  3.21305019e-01,\n",
              "         5.75849143e-01],\n",
              "       [ 4.62344658e-01, -9.62079472e-01, -1.63836018e-01,\n",
              "        -8.42145082e-01],\n",
              "       [-2.48256249e+00, -7.31985727e-01, -4.97049377e-01,\n",
              "        -2.32766284e+00],\n",
              "       [ 1.23974744e+00, -8.02783803e-01, -4.15580913e-01,\n",
              "        -3.35718573e-01],\n",
              "       [-2.95293647e-01,  1.86984355e+00,  1.74590222e+00,\n",
              "         2.53403164e+00],\n",
              "       [-1.57669061e+00,  9.49468565e-01,  1.08461315e+00,\n",
              "        -1.33147970e-01],\n",
              "       [-4.83056183e-01,  5.24680112e-01,  6.81674533e-01,\n",
              "         1.21732272e+00],\n",
              "       [-8.94816132e-01,  7.19374820e-01, -1.47834070e+00,\n",
              "        -9.43430383e-01],\n",
              "       [-4.69879865e-01, -4.17044913e-02,  1.07874155e+00,\n",
              "        -4.03242108e-01],\n",
              "       [ 1.09480794e+00, -1.83300642e-01, -3.28974797e-01,\n",
              "         3.05755005e-01],\n",
              "       [-9.34345087e-01, -2.71798237e-01,  2.37709934e+00,\n",
              "         1.14979919e+00],\n",
              "       [-6.27995685e-01, -1.01517803e+00,  1.02587880e-01,\n",
              "        -1.41609512e+00],\n",
              "       [-1.45810374e+00,  1.44505509e+00,  2.42038404e-01,\n",
              "         1.35236979e+00],\n",
              "       [ 2.81170281e-01,  2.02913922e+00, -3.28240847e-01,\n",
              "         1.89909941e-03],\n",
              "       [-4.30350910e-01, -3.60295831e-01,  4.42406790e-01,\n",
              "        -7.74621547e-01],\n",
              "       [-6.87289118e-01,  3.47684924e-01, -1.40494569e+00,\n",
              "         4.07040306e-01],\n",
              "       [-1.25057673e+00,  2.41487811e-01,  7.30849192e-01,\n",
              "        -4.03242108e-01],\n",
              "       [ 1.39524858e-01, -1.49306504e+00,  1.20202683e-01,\n",
              "        -8.75906849e-01],\n",
              "       [-1.85339329e+00, -2.36399199e-01,  1.08975081e+00,\n",
              "        -1.24728629e+00],\n",
              "       [ 1.08492570e+00,  6.83975782e-01,  1.50294638e-01,\n",
              "         1.04851388e+00],\n",
              "       [ 9.66338835e-01,  1.13940653e-02,  7.44794244e-01,\n",
              "        -7.74621547e-01],\n",
              "       [ 1.74374162e+00, -8.02783803e-01, -1.85192132e+00,\n",
              "        -5.04527409e-01],\n",
              "       [ 6.33636796e-01,  3.65384443e-01,  8.38005911e-01,\n",
              "         2.12889044e+00],\n",
              "       [ 4.26109783e-01, -3.24896793e-01,  7.93968903e-01,\n",
              "         1.18356095e+00],\n",
              "       [-9.44227325e-01,  4.53882037e-01, -4.88241976e-01,\n",
              "        -6.73336245e-01],\n",
              "       [-1.20028025e-02,  6.13177707e-01,  1.04938355e+00,\n",
              "         2.04469703e-01],\n",
              "       [ 2.58111724e-01,  8.07872414e-01, -1.57964417e-01,\n",
              "        -1.33147970e-01],\n",
              "       [ 5.84225603e-01,  8.60970971e-01, -9.38887356e-01,\n",
              "         1.85879630e+00],\n",
              "       [ 1.00916187e+00, -2.40049725e-02, -1.74990225e+00,\n",
              "        -3.69480340e-01],\n",
              "       [ 4.07024709e-02, -1.29837033e+00,  8.87914520e-01,\n",
              "        -6.73336245e-01],\n",
              "       [-7.79523346e-01,  8.43271452e-01,  5.81123365e-01,\n",
              "         1.01475212e+00],\n",
              "       [-4.03998273e-01,  9.84867603e-01,  1.50590053e+00,\n",
              "         2.38231470e-01],\n",
              "       [-1.65904260e+00,  1.21496135e+00,  4.53416042e-01,\n",
              "         6.43372677e-01],\n",
              "       [-1.56942304e-01, -1.08597610e+00,  1.44938637e+00,\n",
              "         1.89909941e-03],\n",
              "       [-1.85909617e-02, -5.54990539e-01,  8.43143562e-01,\n",
              "        -6.56244351e-02],\n",
              "       [-1.60963140e+00,  5.95478188e-01, -8.27326936e-01,\n",
              "        -9.09668616e-01],\n",
              "       [ 4.98579533e-01, -5.90389576e-01, -9.91731766e-01,\n",
              "        -8.42145082e-01],\n",
              "       [-5.48937775e-01,  1.33885798e+00,  1.26149514e+00,\n",
              "         2.29769927e+00],\n",
              "       [-9.90344440e-01,  1.55125221e+00, -1.47320305e+00,\n",
              "        -6.39574478e-01],\n",
              "       [ 9.79515153e-01, -1.93555301e+00, -1.09228293e+00,\n",
              "        -1.17976275e+00],\n",
              "       [-1.45480966e+00,  2.76886848e-01,  4.05709284e-01,\n",
              "        -5.04527409e-01],\n",
              "       [ 1.42818938e-01,  2.06088773e-01, -1.64274553e+00,\n",
              "         2.71993237e-01],\n",
              "       [-9.27756928e-01,  1.79904547e+00,  1.04424590e+00,\n",
              "        -1.33147970e-01],\n",
              "       [ 4.03051225e-01,  3.65384443e-01, -8.06042383e-01,\n",
              "         2.71993237e-01],\n",
              "       [ 9.33398039e-01, -4.13394388e-01,  7.56537446e-01,\n",
              "         1.28484625e+00],\n",
              "       [-1.17810698e+00,  8.43271452e-01,  6.61857879e-01,\n",
              "         6.09610910e-01],\n",
              "       [ 1.59289336e-01, -1.65601123e-01, -1.99799574e-01,\n",
              "         6.94226339e-02],\n",
              "       [-1.09246091e+00, -1.36916841e+00,  3.32314271e-01,\n",
              "        -1.58490396e+00],\n",
              "       [ 9.01136647e-02,  2.76886848e-01,  6.57454179e-01,\n",
              "         6.43372677e-01],\n",
              "       [ 1.76439138e-02, -1.47901605e-01,  4.28461738e-01,\n",
              "         7.78419746e-01],\n",
              "       [ 1.29642620e-01, -3.42596312e-01,  4.54149992e-01,\n",
              "         1.89909941e-03],\n",
              "       [ 2.84464360e-01, -7.14286208e-01,  2.66258759e-01,\n",
              "         2.38231470e-01],\n",
              "       [ 7.52223662e-01, -1.22757226e+00, -1.26422910e-02,\n",
              "        -2.34433271e-01],\n",
              "       [-1.26045897e+00,  3.65384443e-01, -1.42329444e+00,\n",
              "        -3.18626678e-02],\n",
              "       [ 1.23315928e+00, -2.76743040e+00,  3.18369218e-01,\n",
              "        -8.75906849e-01],\n",
              "       [ 9.07045402e-01, -5.72690057e-01, -6.75399259e-01,\n",
              "        -3.01956806e-01],\n",
              "       [-1.05622603e+00,  1.86984355e+00, -3.65672304e-01,\n",
              "        -4.37003875e-01],\n",
              "       [ 1.07504346e+00,  5.60079150e-01, -2.59249535e-01,\n",
              "         9.47228582e-01],\n",
              "       [-9.43547922e-02,  1.17591178e-01, -2.02146380e+00,\n",
              "        -6.05812711e-01],\n",
              "       [ 8.74104606e-01, -1.15677418e+00, -3.26038997e-01,\n",
              "         3.56608667e-02],\n",
              "       [-4.59997626e-01,  8.78670490e-01, -1.28017417e+00,\n",
              "         8.45943281e-01],\n",
              "       [ 1.17386585e+00, -1.83300642e-01, -1.55762567e-01,\n",
              "         1.62246393e+00],\n",
              "       [-8.35522699e-01, -5.72690057e-01, -1.13998969e+00,\n",
              "        -8.08383314e-01],\n",
              "       [ 1.13763097e+00, -8.91281397e-01, -4.95581477e-01,\n",
              "         3.05755005e-01],\n",
              "       [-2.95293647e-01,  9.98916596e-02,  9.96539139e-01,\n",
              "         6.43372677e-01],\n",
              "       [-7.89405585e-01, -9.26680435e-01,  1.22993528e+00,\n",
              "         3.56608667e-02],\n",
              "       [ 1.12116058e+00,  2.59187329e-01,  5.99472118e-01,\n",
              "         1.72374923e+00],\n",
              "       [-6.37877924e-01,  5.24680112e-01,  8.43877512e-01,\n",
              "         3.56608667e-02],\n",
              "       [-8.35522699e-01,  4.71581556e-01, -2.08606976e-01,\n",
              "        -3.01956806e-01],\n",
              "       [ 9.67018239e-02,  2.76886848e-01, -1.22145816e+00,\n",
              "        -5.38289177e-01],\n",
              "       [-7.56464789e-01, -1.01517803e+00, -2.44642093e+00,\n",
              "        -1.65242750e+00],\n",
              "       [ 1.43498342e-02, -1.24527177e+00, -1.05411753e+00,\n",
              "        -1.01095392e+00],\n",
              "       [ 5.05847096e-02,  1.52990216e-01, -7.06225165e-01,\n",
              "         6.77134444e-01],\n",
              "       [-1.09904907e+00,  5.24680112e-01,  2.92680963e-01,\n",
              "        -1.33147970e-01],\n",
              "       [ 1.01245595e+00,  7.54773858e-01, -3.44387750e-01,\n",
              "         3.73278539e-01],\n",
              "       [ 2.35053166e-01, -1.83300642e-01, -6.00536346e-01,\n",
              "        -9.09668616e-01],\n",
              "       [ 3.37169634e-01,  1.51585317e+00, -8.72097894e-01,\n",
              "         1.55494039e+00],\n",
              "       [ 6.69871672e-01, -1.15677418e+00,  9.11400924e-01,\n",
              "         2.71993237e-01],\n",
              "       [-2.51791208e-02,  8.43271452e-01, -1.55780915e-02,\n",
              "         4.74563841e-01],\n",
              "       [ 1.25292376e+00, -6.78887171e-01, -3.13561845e-01,\n",
              "        -3.18626678e-02],\n",
              "       [ 1.03551451e+00, -6.25788614e-01,  5.34150557e-01,\n",
              "         7.10896212e-01],\n",
              "       [ 3.47051872e-01, -5.72690057e-01,  2.59653208e-01,\n",
              "         4.07040306e-01],\n",
              "       [ 9.89397392e-01, -1.15677418e+00,  6.47912827e-01,\n",
              "        -1.66909737e-01],\n",
              "       [ 3.14111077e-01,  4.36182518e-01, -1.18843040e+00,\n",
              "        -1.11223922e+00],\n",
              "       [ 2.91052519e-01,  5.95478188e-01, -5.05122829e-01,\n",
              "         1.89909941e-03],\n",
              "       [-5.09408820e-01,  1.52990216e-01,  2.36166803e-01,\n",
              "        -8.42145082e-01],\n",
              "       [ 1.04210267e+00, -1.01517803e+00,  3.33782171e-01,\n",
              "         4.07040306e-01],\n",
              "       [ 1.44068630e+00, -2.36399199e-01,  7.00757236e-01,\n",
              "         1.89909941e-03],\n",
              "       [-2.51879737e+00,  8.07872414e-01,  4.07177184e-01,\n",
              "        -9.77192151e-01],\n",
              "       [-6.87289118e-01,  1.26805990e+00, -2.33486051e+00,\n",
              "         1.36946168e-01],\n",
              "       [-2.45882453e-01, -5.94040102e-02,  7.55069546e-01,\n",
              "        -2.00671504e-01],\n",
              "       [ 7.55517741e-01, -2.89497755e-01, -2.12054707e+00,\n",
              "        -1.33147970e-01],\n",
              "       [-1.56942304e-01, -2.54098718e-01,  1.19690752e+00,\n",
              "        -1.33147970e-01],\n",
              "       [ 1.79644689e+00, -1.03287755e+00, -8.25859036e-01,\n",
              "         6.94226339e-02],\n",
              "       [ 1.02892635e+00, -8.55882359e-01,  6.25160373e-01,\n",
              "         1.36946168e-01],\n",
              "       [ 1.27598232e+00,  1.09106472e+00, -9.74116963e-01,\n",
              "         1.11603742e+00],\n",
              "       [-7.45903146e-02, -9.97478510e-01,  1.02149344e+00,\n",
              "        -1.33147970e-01],\n",
              "       [-2.18850413e-02,  1.19726183e+00, -2.99616792e-01,\n",
              "         2.71993237e-01],\n",
              "       [ 1.26280600e+00, -2.66123328e+00,  6.63325780e-01,\n",
              "        -1.41609512e+00],\n",
              "       [ 5.38108488e-01, -1.19217322e+00,  1.05525515e+00,\n",
              "        -3.18626678e-02]])"
            ]
          },
          "execution_count": 25,
          "metadata": {},
          "output_type": "execute_result"
        }
      ],
      "source": [
        "from sklearn.preprocessing import StandardScaler\n",
        "\n",
        "sc = StandardScaler()\n",
        "# let's allow sc to see our X_train data, and determine mean and sd during learning\n",
        "sc.fit(X_train)\n",
        "\n",
        "# let's use the mean and sd learned by sc to transform our data\n",
        "X_train_scaled = sc.transform(X_train)\n",
        "\n",
        "X_train_scaled"
      ]
    },
    {
      "cell_type": "code",
      "execution_count": 26,
      "metadata": {
        "colab": {
          "base_uri": "https://localhost:8080/"
        },
        "id": "Hh8YpdujxnMq",
        "outputId": "1f897732-a409-49f9-9276-820d11f91157"
      },
      "outputs": [
        {
          "data": {
            "text/plain": [
              "Index(['porosity', 'acousticimpedance', 'brittlenessratio',\n",
              "       'vitrinitereflectance'],\n",
              "      dtype='object')"
            ]
          },
          "execution_count": 26,
          "metadata": {},
          "output_type": "execute_result"
        }
      ],
      "source": [
        "X_train.columns"
      ]
    },
    {
      "cell_type": "code",
      "execution_count": 27,
      "metadata": {
        "colab": {
          "base_uri": "https://localhost:8080/",
          "height": 300
        },
        "id": "vGfg_tEcxbE7",
        "outputId": "54ecb5ff-6337-4cd1-d32e-506e60454cce"
      },
      "outputs": [
        {
          "data": {
            "text/html": [
              "<div>\n",
              "<style scoped>\n",
              "    .dataframe tbody tr th:only-of-type {\n",
              "        vertical-align: middle;\n",
              "    }\n",
              "\n",
              "    .dataframe tbody tr th {\n",
              "        vertical-align: top;\n",
              "    }\n",
              "\n",
              "    .dataframe thead th {\n",
              "        text-align: right;\n",
              "    }\n",
              "</style>\n",
              "<table border=\"1\" class=\"dataframe\">\n",
              "  <thead>\n",
              "    <tr style=\"text-align: right;\">\n",
              "      <th></th>\n",
              "      <th>porosity</th>\n",
              "      <th>acousticimpedance</th>\n",
              "      <th>brittlenessratio</th>\n",
              "      <th>vitrinitereflectance</th>\n",
              "    </tr>\n",
              "  </thead>\n",
              "  <tbody>\n",
              "    <tr>\n",
              "      <th>count</th>\n",
              "      <td>1.600000e+02</td>\n",
              "      <td>1.600000e+02</td>\n",
              "      <td>1.600000e+02</td>\n",
              "      <td>1.600000e+02</td>\n",
              "    </tr>\n",
              "    <tr>\n",
              "      <th>mean</th>\n",
              "      <td>9.992007e-17</td>\n",
              "      <td>-1.720846e-16</td>\n",
              "      <td>3.275158e-16</td>\n",
              "      <td>-2.220446e-17</td>\n",
              "    </tr>\n",
              "    <tr>\n",
              "      <th>std</th>\n",
              "      <td>1.003140e+00</td>\n",
              "      <td>1.003140e+00</td>\n",
              "      <td>1.003140e+00</td>\n",
              "      <td>1.003140e+00</td>\n",
              "    </tr>\n",
              "    <tr>\n",
              "      <th>min</th>\n",
              "      <td>-2.755971e+00</td>\n",
              "      <td>-2.962125e+00</td>\n",
              "      <td>-2.552110e+00</td>\n",
              "      <td>-2.766566e+00</td>\n",
              "    </tr>\n",
              "    <tr>\n",
              "      <th>25%</th>\n",
              "      <td>-6.551718e-01</td>\n",
              "      <td>-7.187111e-01</td>\n",
              "      <td>-6.438394e-01</td>\n",
              "      <td>-7.239789e-01</td>\n",
              "    </tr>\n",
              "    <tr>\n",
              "      <th>50%</th>\n",
              "      <td>4.564359e-02</td>\n",
              "      <td>-3.285473e-02</td>\n",
              "      <td>1.660746e-01</td>\n",
              "      <td>-1.498178e-02</td>\n",
              "    </tr>\n",
              "    <tr>\n",
              "      <th>75%</th>\n",
              "      <td>7.703411e-01</td>\n",
              "      <td>6.264523e-01</td>\n",
              "      <td>7.082802e-01</td>\n",
              "      <td>5.842896e-01</td>\n",
              "    </tr>\n",
              "    <tr>\n",
              "      <th>max</th>\n",
              "      <td>2.843964e+00</td>\n",
              "      <td>2.967214e+00</td>\n",
              "      <td>2.592147e+00</td>\n",
              "      <td>3.040458e+00</td>\n",
              "    </tr>\n",
              "  </tbody>\n",
              "</table>\n",
              "</div>"
            ],
            "text/plain": [
              "           porosity  acousticimpedance  brittlenessratio  vitrinitereflectance\n",
              "count  1.600000e+02       1.600000e+02      1.600000e+02          1.600000e+02\n",
              "mean   9.992007e-17      -1.720846e-16      3.275158e-16         -2.220446e-17\n",
              "std    1.003140e+00       1.003140e+00      1.003140e+00          1.003140e+00\n",
              "min   -2.755971e+00      -2.962125e+00     -2.552110e+00         -2.766566e+00\n",
              "25%   -6.551718e-01      -7.187111e-01     -6.438394e-01         -7.239789e-01\n",
              "50%    4.564359e-02      -3.285473e-02      1.660746e-01         -1.498178e-02\n",
              "75%    7.703411e-01       6.264523e-01      7.082802e-01          5.842896e-01\n",
              "max    2.843964e+00       2.967214e+00      2.592147e+00          3.040458e+00"
            ]
          },
          "execution_count": 27,
          "metadata": {},
          "output_type": "execute_result"
        }
      ],
      "source": [
        "X_train_scaled = pd.DataFrame(X_train_scaled, columns=['porosity', 'acousticimpedance', 'brittlenessratio', 'vitrinitereflectance'])\n",
        "X_train_scaled.describe()"
      ]
    },
    {
      "cell_type": "code",
      "execution_count": 28,
      "metadata": {
        "id": "8D9tUXp4ynQp"
      },
      "outputs": [],
      "source": [
        "X_test_scaled = sc.transform(X_test)"
      ]
    },
    {
      "cell_type": "markdown",
      "metadata": {
        "id": "qDb84cqvXz9a"
      },
      "source": [
        "Because we love to work with data frame format, here we will create new data frame for scaled data:\n",
        "* X_train_scaled\n",
        "* X_test_scaled"
      ]
    },
    {
      "cell_type": "code",
      "execution_count": 29,
      "metadata": {
        "colab": {
          "base_uri": "https://localhost:8080/"
        },
        "id": "tBDr4qHpa6yI",
        "outputId": "f5935917-c246-4b88-dc03-15873c4fef7b"
      },
      "outputs": [
        {
          "data": {
            "text/plain": [
              "Index(['porosity', 'acousticimpedance', 'brittlenessratio',\n",
              "       'vitrinitereflectance'],\n",
              "      dtype='object')"
            ]
          },
          "execution_count": 29,
          "metadata": {},
          "output_type": "execute_result"
        }
      ],
      "source": [
        "X.columns"
      ]
    },
    {
      "cell_type": "code",
      "execution_count": 30,
      "metadata": {
        "id": "Cybhu7LnaoBo"
      },
      "outputs": [],
      "source": [
        "X_train_scaled = pd.DataFrame(X_train_scaled, columns=X.columns)"
      ]
    },
    {
      "cell_type": "code",
      "execution_count": 31,
      "metadata": {
        "colab": {
          "base_uri": "https://localhost:8080/",
          "height": 1000
        },
        "id": "ixtigzQpbEfv",
        "outputId": "0e5ede26-cabc-4361-9210-53176248a738"
      },
      "outputs": [
        {
          "data": {
            "text/html": [
              "<div>\n",
              "<style scoped>\n",
              "    .dataframe tbody tr th:only-of-type {\n",
              "        vertical-align: middle;\n",
              "    }\n",
              "\n",
              "    .dataframe tbody tr th {\n",
              "        vertical-align: top;\n",
              "    }\n",
              "\n",
              "    .dataframe thead th {\n",
              "        text-align: right;\n",
              "    }\n",
              "</style>\n",
              "<table border=\"1\" class=\"dataframe\">\n",
              "  <thead>\n",
              "    <tr style=\"text-align: right;\">\n",
              "      <th></th>\n",
              "      <th>porosity</th>\n",
              "      <th>acousticimpedance</th>\n",
              "      <th>brittlenessratio</th>\n",
              "      <th>vitrinitereflectance</th>\n",
              "    </tr>\n",
              "  </thead>\n",
              "  <tbody>\n",
              "    <tr>\n",
              "      <th>0</th>\n",
              "      <td>0.389875</td>\n",
              "      <td>-1.404567</td>\n",
              "      <td>-1.632470</td>\n",
              "      <td>-2.293901</td>\n",
              "    </tr>\n",
              "    <tr>\n",
              "      <th>1</th>\n",
              "      <td>-0.180001</td>\n",
              "      <td>0.046793</td>\n",
              "      <td>-0.102184</td>\n",
              "      <td>-0.335719</td>\n",
              "    </tr>\n",
              "    <tr>\n",
              "      <th>2</th>\n",
              "      <td>-1.039756</td>\n",
              "      <td>2.170735</td>\n",
              "      <td>0.895254</td>\n",
              "      <td>1.622464</td>\n",
              "    </tr>\n",
              "    <tr>\n",
              "      <th>3</th>\n",
              "      <td>-1.454810</td>\n",
              "      <td>1.303459</td>\n",
              "      <td>0.886447</td>\n",
              "      <td>0.677134</td>\n",
              "    </tr>\n",
              "    <tr>\n",
              "      <th>4</th>\n",
              "      <td>1.038809</td>\n",
              "      <td>-0.112503</td>\n",
              "      <td>-1.493020</td>\n",
              "      <td>0.440802</td>\n",
              "    </tr>\n",
              "    <tr>\n",
              "      <th>5</th>\n",
              "      <td>0.208701</td>\n",
              "      <td>-0.838183</td>\n",
              "      <td>0.678005</td>\n",
              "      <td>1.284846</td>\n",
              "    </tr>\n",
              "    <tr>\n",
              "      <th>6</th>\n",
              "      <td>1.002574</td>\n",
              "      <td>-0.147902</td>\n",
              "      <td>0.029193</td>\n",
              "      <td>0.136946</td>\n",
              "    </tr>\n",
              "    <tr>\n",
              "      <th>7</th>\n",
              "      <td>0.857634</td>\n",
              "      <td>0.400783</td>\n",
              "      <td>-2.794313</td>\n",
              "      <td>-0.234433</td>\n",
              "    </tr>\n",
              "    <tr>\n",
              "      <th>8</th>\n",
              "      <td>-0.667525</td>\n",
              "      <td>-0.094803</td>\n",
              "      <td>0.163506</td>\n",
              "      <td>0.001899</td>\n",
              "    </tr>\n",
              "    <tr>\n",
              "      <th>9</th>\n",
              "      <td>1.331982</td>\n",
              "      <td>-1.386868</td>\n",
              "      <td>-1.448249</td>\n",
              "      <td>-0.065624</td>\n",
              "    </tr>\n",
              "    <tr>\n",
              "      <th>10</th>\n",
              "      <td>0.831282</td>\n",
              "      <td>0.860971</td>\n",
              "      <td>0.610481</td>\n",
              "      <td>1.386132</td>\n",
              "    </tr>\n",
              "    <tr>\n",
              "      <th>11</th>\n",
              "      <td>-0.061414</td>\n",
              "      <td>0.135291</td>\n",
              "      <td>1.351037</td>\n",
              "      <td>0.035661</td>\n",
              "    </tr>\n",
              "    <tr>\n",
              "      <th>12</th>\n",
              "      <td>0.419522</td>\n",
              "      <td>-1.174474</td>\n",
              "      <td>0.006440</td>\n",
              "      <td>-0.369480</td>\n",
              "    </tr>\n",
              "    <tr>\n",
              "      <th>13</th>\n",
              "      <td>-0.466586</td>\n",
              "      <td>1.745947</td>\n",
              "      <td>-0.905126</td>\n",
              "      <td>2.128890</td>\n",
              "    </tr>\n",
              "    <tr>\n",
              "      <th>14</th>\n",
              "      <td>0.011056</td>\n",
              "      <td>-0.466493</td>\n",
              "      <td>1.960950</td>\n",
              "      <td>-0.572051</td>\n",
              "    </tr>\n",
              "    <tr>\n",
              "      <th>15</th>\n",
              "      <td>-0.884934</td>\n",
              "      <td>0.117591</td>\n",
              "      <td>-0.612280</td>\n",
              "      <td>-0.437004</td>\n",
              "    </tr>\n",
              "    <tr>\n",
              "      <th>16</th>\n",
              "      <td>1.048691</td>\n",
              "      <td>0.683976</td>\n",
              "      <td>0.519472</td>\n",
              "      <td>0.609611</td>\n",
              "    </tr>\n",
              "    <tr>\n",
              "      <th>17</th>\n",
              "      <td>-0.967286</td>\n",
              "      <td>0.383084</td>\n",
              "      <td>-1.606782</td>\n",
              "      <td>-0.943430</td>\n",
              "    </tr>\n",
              "    <tr>\n",
              "      <th>18</th>\n",
              "      <td>-0.012003</td>\n",
              "      <td>0.914070</td>\n",
              "      <td>0.167175</td>\n",
              "      <td>-0.673336</td>\n",
              "    </tr>\n",
              "    <tr>\n",
              "      <th>19</th>\n",
              "      <td>-0.631290</td>\n",
              "      <td>0.259187</td>\n",
              "      <td>1.139659</td>\n",
              "      <td>-0.875907</td>\n",
              "    </tr>\n",
              "    <tr>\n",
              "      <th>20</th>\n",
              "      <td>1.990798</td>\n",
              "      <td>-0.891281</td>\n",
              "      <td>-1.113567</td>\n",
              "      <td>-0.437004</td>\n",
              "    </tr>\n",
              "    <tr>\n",
              "      <th>21</th>\n",
              "      <td>1.526332</td>\n",
              "      <td>0.223788</td>\n",
              "      <td>-0.992466</td>\n",
              "      <td>-0.065624</td>\n",
              "    </tr>\n",
              "    <tr>\n",
              "      <th>22</th>\n",
              "      <td>1.137631</td>\n",
              "      <td>-0.696587</td>\n",
              "      <td>-0.351727</td>\n",
              "      <td>1.251084</td>\n",
              "    </tr>\n",
              "    <tr>\n",
              "      <th>23</th>\n",
              "      <td>0.274582</td>\n",
              "      <td>-0.236399</td>\n",
              "      <td>1.590305</td>\n",
              "      <td>0.238231</td>\n",
              "    </tr>\n",
              "    <tr>\n",
              "      <th>24</th>\n",
              "      <td>-0.058120</td>\n",
              "      <td>-0.891281</td>\n",
              "      <td>-0.891915</td>\n",
              "      <td>-1.281048</td>\n",
              "    </tr>\n",
              "    <tr>\n",
              "      <th>25</th>\n",
              "      <td>0.969633</td>\n",
              "      <td>-0.802784</td>\n",
              "      <td>-1.672837</td>\n",
              "      <td>-3.509325</td>\n",
              "    </tr>\n",
              "    <tr>\n",
              "      <th>26</th>\n",
              "      <td>0.099996</td>\n",
              "      <td>1.002567</td>\n",
              "      <td>-0.497049</td>\n",
              "      <td>0.980990</td>\n",
              "    </tr>\n",
              "    <tr>\n",
              "      <th>27</th>\n",
              "      <td>-0.835523</td>\n",
              "      <td>2.011440</td>\n",
              "      <td>-1.292651</td>\n",
              "      <td>0.339517</td>\n",
              "    </tr>\n",
              "    <tr>\n",
              "      <th>28</th>\n",
              "      <td>-0.657642</td>\n",
              "      <td>1.285759</td>\n",
              "      <td>1.643149</td>\n",
              "      <td>-0.200672</td>\n",
              "    </tr>\n",
              "    <tr>\n",
              "      <th>29</th>\n",
              "      <td>0.267994</td>\n",
              "      <td>1.391957</td>\n",
              "      <td>-1.255954</td>\n",
              "      <td>0.609611</td>\n",
              "    </tr>\n",
              "    <tr>\n",
              "      <th>30</th>\n",
              "      <td>-1.010109</td>\n",
              "      <td>0.542380</td>\n",
              "      <td>-1.779994</td>\n",
              "      <td>-1.990045</td>\n",
              "    </tr>\n",
              "    <tr>\n",
              "      <th>31</th>\n",
              "      <td>0.557873</td>\n",
              "      <td>-1.988652</td>\n",
              "      <td>0.815987</td>\n",
              "      <td>-0.369480</td>\n",
              "    </tr>\n",
              "    <tr>\n",
              "      <th>32</th>\n",
              "      <td>0.729165</td>\n",
              "      <td>-0.130202</td>\n",
              "      <td>0.178919</td>\n",
              "      <td>1.048514</td>\n",
              "    </tr>\n",
              "    <tr>\n",
              "      <th>33</th>\n",
              "      <td>-1.026579</td>\n",
              "      <td>1.214961</td>\n",
              "      <td>-1.002741</td>\n",
              "      <td>-0.707098</td>\n",
              "    </tr>\n",
              "    <tr>\n",
              "      <th>34</th>\n",
              "      <td>-0.140472</td>\n",
              "      <td>0.082192</td>\n",
              "      <td>-1.942931</td>\n",
              "      <td>0.069423</td>\n",
              "    </tr>\n",
              "    <tr>\n",
              "      <th>35</th>\n",
              "      <td>1.585626</td>\n",
              "      <td>-0.572690</td>\n",
              "      <td>0.065890</td>\n",
              "      <td>0.474564</td>\n",
              "    </tr>\n",
              "    <tr>\n",
              "      <th>36</th>\n",
              "      <td>0.264700</td>\n",
              "      <td>-0.785084</td>\n",
              "      <td>-1.021824</td>\n",
              "      <td>-0.065624</td>\n",
              "    </tr>\n",
              "    <tr>\n",
              "      <th>37</th>\n",
              "      <td>0.561167</td>\n",
              "      <td>-1.139075</td>\n",
              "      <td>-1.291917</td>\n",
              "      <td>-1.449857</td>\n",
              "    </tr>\n",
              "    <tr>\n",
              "      <th>38</th>\n",
              "      <td>-0.782817</td>\n",
              "      <td>1.126464</td>\n",
              "      <td>0.661858</td>\n",
              "      <td>0.204470</td>\n",
              "    </tr>\n",
              "    <tr>\n",
              "      <th>39</th>\n",
              "      <td>-1.306576</td>\n",
              "      <td>1.268060</td>\n",
              "      <td>-0.143285</td>\n",
              "      <td>-0.133148</td>\n",
              "    </tr>\n",
              "  </tbody>\n",
              "</table>\n",
              "</div>"
            ],
            "text/plain": [
              "    porosity  acousticimpedance  brittlenessratio  vitrinitereflectance\n",
              "0   0.389875          -1.404567         -1.632470             -2.293901\n",
              "1  -0.180001           0.046793         -0.102184             -0.335719\n",
              "2  -1.039756           2.170735          0.895254              1.622464\n",
              "3  -1.454810           1.303459          0.886447              0.677134\n",
              "4   1.038809          -0.112503         -1.493020              0.440802\n",
              "5   0.208701          -0.838183          0.678005              1.284846\n",
              "6   1.002574          -0.147902          0.029193              0.136946\n",
              "7   0.857634           0.400783         -2.794313             -0.234433\n",
              "8  -0.667525          -0.094803          0.163506              0.001899\n",
              "9   1.331982          -1.386868         -1.448249             -0.065624\n",
              "10  0.831282           0.860971          0.610481              1.386132\n",
              "11 -0.061414           0.135291          1.351037              0.035661\n",
              "12  0.419522          -1.174474          0.006440             -0.369480\n",
              "13 -0.466586           1.745947         -0.905126              2.128890\n",
              "14  0.011056          -0.466493          1.960950             -0.572051\n",
              "15 -0.884934           0.117591         -0.612280             -0.437004\n",
              "16  1.048691           0.683976          0.519472              0.609611\n",
              "17 -0.967286           0.383084         -1.606782             -0.943430\n",
              "18 -0.012003           0.914070          0.167175             -0.673336\n",
              "19 -0.631290           0.259187          1.139659             -0.875907\n",
              "20  1.990798          -0.891281         -1.113567             -0.437004\n",
              "21  1.526332           0.223788         -0.992466             -0.065624\n",
              "22  1.137631          -0.696587         -0.351727              1.251084\n",
              "23  0.274582          -0.236399          1.590305              0.238231\n",
              "24 -0.058120          -0.891281         -0.891915             -1.281048\n",
              "25  0.969633          -0.802784         -1.672837             -3.509325\n",
              "26  0.099996           1.002567         -0.497049              0.980990\n",
              "27 -0.835523           2.011440         -1.292651              0.339517\n",
              "28 -0.657642           1.285759          1.643149             -0.200672\n",
              "29  0.267994           1.391957         -1.255954              0.609611\n",
              "30 -1.010109           0.542380         -1.779994             -1.990045\n",
              "31  0.557873          -1.988652          0.815987             -0.369480\n",
              "32  0.729165          -0.130202          0.178919              1.048514\n",
              "33 -1.026579           1.214961         -1.002741             -0.707098\n",
              "34 -0.140472           0.082192         -1.942931              0.069423\n",
              "35  1.585626          -0.572690          0.065890              0.474564\n",
              "36  0.264700          -0.785084         -1.021824             -0.065624\n",
              "37  0.561167          -1.139075         -1.291917             -1.449857\n",
              "38 -0.782817           1.126464          0.661858              0.204470\n",
              "39 -1.306576           1.268060         -0.143285             -0.133148"
            ]
          },
          "execution_count": 31,
          "metadata": {},
          "output_type": "execute_result"
        }
      ],
      "source": [
        "X_test_scaled = pd.DataFrame(X_test_scaled, columns=X.columns)\n",
        "X_test_scaled"
      ]
    },
    {
      "cell_type": "markdown",
      "metadata": {
        "id": "2ojx0NGBPscd"
      },
      "source": [
        "We can visually compare the data before and after Feature Scaling process to understand the process. Pandas provide `plot` method to display box plot visualization"
      ]
    },
    {
      "cell_type": "markdown",
      "metadata": {
        "id": "KxpvR3xCjzIc"
      },
      "source": [
        "1. Display the box-plot of original dataset of training set (`X`). It is apparent that each feature have different scale."
      ]
    },
    {
      "cell_type": "code",
      "execution_count": 32,
      "metadata": {
        "colab": {
          "base_uri": "https://localhost:8080/",
          "height": 610
        },
        "id": "CFQA61AtaHRZ",
        "outputId": "3280fbf2-a140-4029-b301-ad0b268c41fb"
      },
      "outputs": [
        {
          "data": {
            "text/plain": [
              "<Axes: >"
            ]
          },
          "execution_count": 32,
          "metadata": {},
          "output_type": "execute_result"
        },
        {
          "data": {
            "image/png": "[encoded data removed]",
            "text/plain": [
              "<Figure size 1000x1000 with 1 Axes>"
            ]
          },
          "metadata": {},
          "output_type": "display_data"
        }
      ],
      "source": [
        "df.plot(kind='box', figsize=(10,10))"
      ]
    },
    {
      "cell_type": "markdown",
      "metadata": {
        "id": "1U9bwPQdkN-H"
      },
      "source": [
        "2. Display the box-plot of training set of Feature matrix (`X_train`) after Feature Scaling process."
      ]
    },
    {
      "cell_type": "code",
      "execution_count": 33,
      "metadata": {
        "colab": {
          "base_uri": "https://localhost:8080/",
          "height": 338
        },
        "id": "WV9jfEdCaewr",
        "outputId": "970e57f7-2498-49de-b078-6fa1081f6609"
      },
      "outputs": [
        {
          "data": {
            "text/plain": [
              "<Axes: >"
            ]
          },
          "execution_count": 33,
          "metadata": {},
          "output_type": "execute_result"
        },
        {
          "data": {
            "image/png": "[encoded data removed]",
            "text/plain": [
              "<Figure size 1000x500 with 1 Axes>"
            ]
          },
          "metadata": {},
          "output_type": "display_data"
        }
      ],
      "source": [
        "X_train_scaled.plot(kind='box', figsize=(10, 5))"
      ]
    },
    {
      "cell_type": "code",
      "execution_count": 34,
      "metadata": {
        "colab": {
          "base_uri": "https://localhost:8080/"
        },
        "id": "O1Ajljwgb0kM",
        "outputId": "68f3ba2b-7590-4a45-9b9e-9ac22b36a16c"
      },
      "outputs": [
        {
          "data": {
            "text/plain": [
              "array([10.44150625,  3.24891875, 58.8147    ,  1.57555   ])"
            ]
          },
          "execution_count": 34,
          "metadata": {},
          "output_type": "execute_result"
        }
      ],
      "source": [
        "sc.mean_"
      ]
    },
    {
      "cell_type": "markdown",
      "metadata": {
        "id": "vIYckyZVvgsu"
      },
      "source": [
        "3. Display the box-plot of training set of Feature matrix (`X_test`) after Feature Scaling process."
      ]
    },
    {
      "cell_type": "code",
      "execution_count": 35,
      "metadata": {
        "colab": {
          "base_uri": "https://localhost:8080/",
          "height": 283
        },
        "id": "e2zT8gbfb_D2",
        "outputId": "e2210933-84a4-4910-cd51-8edefc635d4c"
      },
      "outputs": [
        {
          "data": {
            "text/plain": [
              "<Axes: >"
            ]
          },
          "execution_count": 35,
          "metadata": {},
          "output_type": "execute_result"
        },
        {
          "data": {
            "image/png": "[encoded data removed]",
            "text/plain": [
              "<Figure size 640x480 with 1 Axes>"
            ]
          },
          "metadata": {},
          "output_type": "display_data"
        }
      ],
      "source": [
        "X_test_scaled.plot(kind='box')"
      ]
    },
    {
      "cell_type": "markdown",
      "metadata": {
        "id": "Jbq5D4SMdgH4"
      },
      "source": [
        "Why do we perform feature scaling after splitting the dataset into training and test set?\n",
        "\n",
        "* It is a good practice to fit the scaler on the training set then use it to transform the testing data. This would avoid any **data leakage** during the model testing process\n",
        "* The scaling of target values (dependent variable) is generally **not required**\n",
        "* If you're unsure whether your should perform feature scaling or not, or which scaling method to use, you can always **compare the performance** for the best results"
      ]
    },
    {
      "cell_type": "markdown",
      "metadata": {
        "id": "3O3r9Ql7cGna"
      },
      "source": [
        "## Training the Multiple Linear Regression Model on the Training Set"
      ]
    },
    {
      "cell_type": "markdown",
      "metadata": {
        "id": "T0VhjtrDv1e8"
      },
      "source": [
        "Training the model can be performed in three simple step:\n",
        "*   Import `LinearRegression` class from `linear_model` modul of `sklearn`\n",
        "*   Create the model as an instance of `LinearRegression` class. Example name: `regressor`\n",
        "* Train the model using `fit` method on the training set (`X_train_scaled` and `y_train`). **Remember!** Use the dataset after feature scaling step for feature matrix."
      ]
    },
    {
      "cell_type": "code",
      "execution_count": 36,
      "metadata": {
        "colab": {
          "base_uri": "https://localhost:8080/",
          "height": 75
        },
        "id": "_CtATQjeca8o",
        "outputId": "1c63a175-39e8-49b9-eada-916e57f5a24a"
      },
      "outputs": [
        {
          "data": {
            "text/html": [
              "<style>#sk-container-id-1 {color: black;background-color: white;}#sk-container-id-1 pre{padding: 0;}#sk-container-id-1 div.sk-toggleable {background-color: white;}#sk-container-id-1 label.sk-toggleable__label {cursor: pointer;display: block;width: 100%;margin-bottom: 0;padding: 0.3em;box-sizing: border-box;text-align: center;}#sk-container-id-1 label.sk-toggleable__label-arrow:before {content: \"▸\";float: left;margin-right: 0.25em;color: #696969;}#sk-container-id-1 label.sk-toggleable__label-arrow:hover:before {color: black;}#sk-container-id-1 div.sk-estimator:hover label.sk-toggleable__label-arrow:before {color: black;}#sk-container-id-1 div.sk-toggleable__content {max-height: 0;max-width: 0;overflow: hidden;text-align: left;background-color: #f0f8ff;}#sk-container-id-1 div.sk-toggleable__content pre {margin: 0.2em;color: black;border-radius: 0.25em;background-color: #f0f8ff;}#sk-container-id-1 input.sk-toggleable__control:checked~div.sk-toggleable__content {max-height: 200px;max-width: 100%;overflow: auto;}#sk-container-id-1 input.sk-toggleable__control:checked~label.sk-toggleable__label-arrow:before {content: \"▾\";}#sk-container-id-1 div.sk-estimator input.sk-toggleable__control:checked~label.sk-toggleable__label {background-color: #d4ebff;}#sk-container-id-1 div.sk-label input.sk-toggleable__control:checked~label.sk-toggleable__label {background-color: #d4ebff;}#sk-container-id-1 input.sk-hidden--visually {border: 0;clip: rect(1px 1px 1px 1px);clip: rect(1px, 1px, 1px, 1px);height: 1px;margin: -1px;overflow: hidden;padding: 0;position: absolute;width: 1px;}#sk-container-id-1 div.sk-estimator {font-family: monospace;background-color: #f0f8ff;border: 1px dotted black;border-radius: 0.25em;box-sizing: border-box;margin-bottom: 0.5em;}#sk-container-id-1 div.sk-estimator:hover {background-color: #d4ebff;}#sk-container-id-1 div.sk-parallel-item::after {content: \"\";width: 100%;border-bottom: 1px solid gray;flex-grow: 1;}#sk-container-id-1 div.sk-label:hover label.sk-toggleable__label {background-color: #d4ebff;}#sk-container-id-1 div.sk-serial::before {content: \"\";position: absolute;border-left: 1px solid gray;box-sizing: border-box;top: 0;bottom: 0;left: 50%;z-index: 0;}#sk-container-id-1 div.sk-serial {display: flex;flex-direction: column;align-items: center;background-color: white;padding-right: 0.2em;padding-left: 0.2em;position: relative;}#sk-container-id-1 div.sk-item {position: relative;z-index: 1;}#sk-container-id-1 div.sk-parallel {display: flex;align-items: stretch;justify-content: center;background-color: white;position: relative;}#sk-container-id-1 div.sk-item::before, #sk-container-id-1 div.sk-parallel-item::before {content: \"\";position: absolute;border-left: 1px solid gray;box-sizing: border-box;top: 0;bottom: 0;left: 50%;z-index: -1;}#sk-container-id-1 div.sk-parallel-item {display: flex;flex-direction: column;z-index: 1;position: relative;background-color: white;}#sk-container-id-1 div.sk-parallel-item:first-child::after {align-self: flex-end;width: 50%;}#sk-container-id-1 div.sk-parallel-item:last-child::after {align-self: flex-start;width: 50%;}#sk-container-id-1 div.sk-parallel-item:only-child::after {width: 0;}#sk-container-id-1 div.sk-dashed-wrapped {border: 1px dashed gray;margin: 0 0.4em 0.5em 0.4em;box-sizing: border-box;padding-bottom: 0.4em;background-color: white;}#sk-container-id-1 div.sk-label label {font-family: monospace;font-weight: bold;display: inline-block;line-height: 1.2em;}#sk-container-id-1 div.sk-label-container {text-align: center;}#sk-container-id-1 div.sk-container {/* jupyter's `normalize.less` sets `[hidden] { display: none; }` but bootstrap.min.css set `[hidden] { display: none !important; }` so we also need the `!important` here to be able to override the default hidden behavior on the sphinx rendered scikit-learn.org. See: https://github.com/scikit-learn/scikit-learn/issues/21755 */display: inline-block !important;position: relative;}#sk-container-id-1 div.sk-text-repr-fallback {display: none;}</style><div id=\"sk-container-id-1\" class=\"sk-top-container\"><div class=\"sk-text-repr-fallback\"><pre>LinearRegression()</pre><b>In a Jupyter environment, please rerun this cell to show the HTML representation or trust the notebook. <br />On GitHub, the HTML representation is unable to render, please try loading this page with nbviewer.org.</b></div><div class=\"sk-container\" hidden><div class=\"sk-item\"><div class=\"sk-estimator sk-toggleable\"><input class=\"sk-toggleable__control sk-hidden--visually\" id=\"sk-estimator-id-1\" type=\"checkbox\" checked><label for=\"sk-estimator-id-1\" class=\"sk-toggleable__label sk-toggleable__label-arrow\">LinearRegression</label><div class=\"sk-toggleable__content\"><pre>LinearRegression()</pre></div></div></div></div></div>"
            ],
            "text/plain": [
              "LinearRegression()"
            ]
          },
          "execution_count": 36,
          "metadata": {},
          "output_type": "execute_result"
        }
      ],
      "source": [
        "from sklearn.linear_model import LinearRegression\n",
        "\n",
        "# create model named regressor\n",
        "regressor = LinearRegression()\n",
        "\n",
        "# train the model\n",
        "regressor.fit(X_train_scaled, y_train)"
      ]
    },
    {
      "cell_type": "markdown",
      "metadata": {
        "id": "eXeMlx0l0K75"
      },
      "source": [
        "# Model Evaluation"
      ]
    },
    {
      "cell_type": "markdown",
      "metadata": {
        "id": "QGq9Vbyv2fUR"
      },
      "source": [
        "Model evaluation can be performed on:\n",
        "* Overall dataset\n",
        "* Training set \n",
        "* Test set\n",
        "\n",
        "**IMPORTANT!** Comparing model performance on both Training Set and Test Set provide qualitative information about **bias-variance trade off** of the model. "
      ]
    },
    {
      "cell_type": "markdown",
      "metadata": {
        "id": "DFSRs-nj3_d_"
      },
      "source": [
        "### Model Evaluation on Training Set"
      ]
    },
    {
      "cell_type": "markdown",
      "metadata": {
        "id": "t20L2T1X573u"
      },
      "source": [
        "Now that our model named `regressor` is ready, we can predict the value of dependent variable `productivitymetric`.\n",
        "* `predict` method to return the output of the model\n",
        "* Here we will try to predict using feature from training set `X_train_scaled`\n",
        "* The output will be stored in variable `y_pred_train` "
      ]
    },
    {
      "cell_type": "code",
      "execution_count": 37,
      "metadata": {
        "id": "z5M5XFMldkWr"
      },
      "outputs": [],
      "source": [
        "y_pred_train = regressor.predict(X_train_scaled)"
      ]
    },
    {
      "cell_type": "markdown",
      "metadata": {
        "id": "90cbJFYC6sLp"
      },
      "source": [
        "We can plot the comparison of the output predicted by our model `y_pred_train` with the actual value `y_train` in a simple scatter plot. It is also very useful to provide **diagonal line** that represent \"perfect model\" when prediction result is identival to actual output. "
      ]
    },
    {
      "cell_type": "code",
      "execution_count": 38,
      "metadata": {
        "colab": {
          "base_uri": "https://localhost:8080/",
          "height": 313
        },
        "id": "w-2SYv7sd09b",
        "outputId": "9668abe2-ae53-4a5c-b2aa-d8f51f22266e"
      },
      "outputs": [
        {
          "data": {
            "text/plain": [
              "Text(0.5, 1.0, 'using training set')"
            ]
          },
          "execution_count": 38,
          "metadata": {},
          "output_type": "execute_result"
        },
        {
          "data": {
            "image/png": "[encoded data removed]",
            "text/plain": [
              "<Figure size 640x480 with 1 Axes>"
            ]
          },
          "metadata": {},
          "output_type": "display_data"
        }
      ],
      "source": [
        "plt.scatter(y_train, y_pred_train)\n",
        "plt.xlabel('true')\n",
        "plt.ylabel('prediction')\n",
        "plt.title('using training set')"
      ]
    },
    {
      "cell_type": "markdown",
      "metadata": {
        "id": "rYNx2wcU7u9i"
      },
      "source": [
        "**How do we quantify the accuracy of our regression model?**\n",
        "\n",
        "While graphical result as shown above provide insights that our regression model is quite satisfactory, it will be useful if we can describe the regression performance numerically. This is called the **regression metric**, those are:\n",
        "\n",
        "* Mean Absolute Error (MAE)\n",
        "* Mean Squared Error (MSE)\n",
        "* Root Mean Squared Error (RMSE)\n",
        "* Coefficient of determination ($R^2$)"
      ]
    },
    {
      "cell_type": "code",
      "execution_count": 39,
      "metadata": {
        "colab": {
          "base_uri": "https://localhost:8080/"
        },
        "id": "C6ojsRavebq8",
        "outputId": "01451d63-00d2-44d6-9249-1432bbf49b59"
      },
      "outputs": [
        {
          "data": {
            "text/plain": [
              "0.9486635329300181"
            ]
          },
          "execution_count": 39,
          "metadata": {},
          "output_type": "execute_result"
        }
      ],
      "source": [
        "from sklearn.metrics import r2_score\n",
        "\n",
        "r2_score(y_train, y_pred_train)"
      ]
    },
    {
      "cell_type": "code",
      "execution_count": 40,
      "metadata": {
        "colab": {
          "base_uri": "https://localhost:8080/"
        },
        "id": "YPcylapZfGMn",
        "outputId": "cfefe46d-101e-4e9d-d4f4-f448eabc77db"
      },
      "outputs": [
        {
          "data": {
            "text/plain": [
              "2.6051847340113587"
            ]
          },
          "execution_count": 40,
          "metadata": {},
          "output_type": "execute_result"
        }
      ],
      "source": [
        "from sklearn.metrics import mean_squared_error\n",
        "\n",
        "mean_squared_error(y_train, y_pred_train, squared=False)"
      ]
    },
    {
      "cell_type": "markdown",
      "metadata": {
        "id": "EeKpdXl84DdQ"
      },
      "source": [
        "### Model Evaluation on Testing Set"
      ]
    },
    {
      "cell_type": "code",
      "execution_count": 41,
      "metadata": {
        "id": "9bG1JGqmC0xv"
      },
      "outputs": [],
      "source": [
        "y_pred_test = regressor.predict(X_test_scaled)"
      ]
    },
    {
      "cell_type": "code",
      "execution_count": 42,
      "metadata": {
        "colab": {
          "base_uri": "https://localhost:8080/"
        },
        "id": "6soWfgR0gIHc",
        "outputId": "4362e7c0-6373-4608-b52d-7a9f77485cfd"
      },
      "outputs": [
        {
          "data": {
            "text/plain": [
              "0.928971831308557"
            ]
          },
          "execution_count": 42,
          "metadata": {},
          "output_type": "execute_result"
        }
      ],
      "source": [
        "from sklearn.metrics import r2_score\n",
        "\n",
        "r2_score(y_test, y_pred_test)"
      ]
    },
    {
      "cell_type": "code",
      "execution_count": 43,
      "metadata": {
        "colab": {
          "base_uri": "https://localhost:8080/"
        },
        "id": "5rHCIAMhgQlX",
        "outputId": "b514e533-de45-4243-e217-a850ef5eb302"
      },
      "outputs": [
        {
          "data": {
            "text/plain": [
              "3.028830814065732"
            ]
          },
          "execution_count": 43,
          "metadata": {},
          "output_type": "execute_result"
        }
      ],
      "source": [
        "from sklearn.metrics import mean_squared_error\n",
        "\n",
        "mean_squared_error(y_test, y_pred_test, squared=False)"
      ]
    },
    {
      "cell_type": "code",
      "execution_count": 44,
      "metadata": {
        "colab": {
          "base_uri": "https://localhost:8080/",
          "height": 283
        },
        "id": "Ur3kb_fVhKJ4",
        "outputId": "fb120025-fd2c-4485-b980-282325df45a7"
      },
      "outputs": [
        {
          "data": {
            "text/plain": [
              "<matplotlib.legend.Legend at 0x162e0bd90>"
            ]
          },
          "execution_count": 44,
          "metadata": {},
          "output_type": "execute_result"
        },
        {
          "data": {
            "image/png": "[encoded data removed]",
            "text/plain": [
              "<Figure size 640x480 with 1 Axes>"
            ]
          },
          "metadata": {},
          "output_type": "display_data"
        }
      ],
      "source": [
        "plt.scatter(y_train, y_pred_train, label=\"training dataset\")\n",
        "plt.scatter(y_test, y_pred_test, label=\"test dataset\")\n",
        "plt.plot([0,100], [0,100])\n",
        "plt.legend()"
      ]
    },
    {
      "cell_type": "markdown",
      "metadata": {
        "id": "b6YjaKzwAlAs"
      },
      "source": [
        "### Model Evaluation on Overall Data Set"
      ]
    },
    {
      "cell_type": "code",
      "execution_count": null,
      "metadata": {
        "id": "4PyyRQApC0dB"
      },
      "outputs": [],
      "source": []
    },
    {
      "cell_type": "markdown",
      "metadata": {
        "id": "Dl_KA7OlyKQ_"
      },
      "source": [
        "# Result Interpretation"
      ]
    },
    {
      "cell_type": "markdown",
      "metadata": {
        "id": "hinsybHDDsBX"
      },
      "source": [
        "## Model Coefficients"
      ]
    },
    {
      "cell_type": "markdown",
      "metadata": {
        "id": "O7aNRO79xJc7"
      },
      "source": [
        "Recall the mathematical formula for Multiple Linear Regression:\n",
        "$$ y_{\\text{predict}}=a_0+a_1 * x_{\\text{porosity}}+a_2 * x_{\\text{acoustic impedance}}+a_3 * x_{\\text{brittleness ratio}}+a_1 * x_{\\text{vitrinite reflectance}}$$"
      ]
    },
    {
      "cell_type": "markdown",
      "metadata": {
        "id": "u45WBox5yYC4"
      },
      "source": [
        "Determine intercept coefficient $a_0$ using `intercept_` method"
      ]
    },
    {
      "cell_type": "code",
      "execution_count": 45,
      "metadata": {
        "colab": {
          "base_uri": "https://localhost:8080/"
        },
        "id": "-xAYuoHFCysR",
        "outputId": "eb0e1f5e-4694-4faa-9379-95a5dc3f9650"
      },
      "outputs": [
        {
          "data": {
            "text/plain": [
              "50.168843328499996"
            ]
          },
          "execution_count": 45,
          "metadata": {},
          "output_type": "execute_result"
        }
      ],
      "source": [
        "regressor.intercept_"
      ]
    },
    {
      "cell_type": "markdown",
      "metadata": {
        "id": "RlWLkoThy-VO"
      },
      "source": [
        "List the coefficients for each independent variables (i.e. $a_1$, $a_2$, $a_3$, $a_4$) using `coef_` method"
      ]
    },
    {
      "cell_type": "code",
      "execution_count": 46,
      "metadata": {
        "colab": {
          "base_uri": "https://localhost:8080/"
        },
        "id": "CXt-gfY_CzFd",
        "outputId": "edd80256-919f-42b4-d95d-186b2314d925"
      },
      "outputs": [
        {
          "data": {
            "text/plain": [
              "array([10.31840982, -1.19108816,  4.35520067,  1.55888733])"
            ]
          },
          "execution_count": 46,
          "metadata": {},
          "output_type": "execute_result"
        }
      ],
      "source": [
        "regressor.coef_"
      ]
    },
    {
      "cell_type": "markdown",
      "metadata": {
        "id": "VW_ZInEsz3S-"
      },
      "source": [
        "**IMPORTANT!** \n",
        "* In linear regression, the value of the coefficients provide insight about which feature affect the model prediction the most (i.e. the feature importance). Here, the productivity metric is strongly affected by porosity.\n",
        "* The sign of the coefficient shows whether the independent variable proportional or inversely proportional to predicted output\n",
        "* Coefficient displayed are to be used in 'standardized' input using `sc` scaler declared in previous section"
      ]
    },
    {
      "cell_type": "markdown",
      "metadata": {
        "id": "X9TbSs8Fx2Rf"
      },
      "source": [
        "## Prediction using The Model"
      ]
    },
    {
      "cell_type": "markdown",
      "metadata": {
        "id": "R3I3UUSQAP_n"
      },
      "source": [
        "Input features using the same unit of original data set"
      ]
    },
    {
      "cell_type": "code",
      "execution_count": 47,
      "metadata": {
        "id": "sJ796jxGCwG0"
      },
      "outputs": [],
      "source": [
        "input_porosity = 20\n",
        "input_acousticimpedance = 4\n",
        "input_brittlenessratio = 30\n",
        "input_vitrinitereflectance = 1.2"
      ]
    },
    {
      "cell_type": "markdown",
      "metadata": {
        "id": "77Dgg7OsAZTV"
      },
      "source": [
        "Convert input features as `numpy` 2D array"
      ]
    },
    {
      "cell_type": "code",
      "execution_count": 48,
      "metadata": {
        "colab": {
          "base_uri": "https://localhost:8080/"
        },
        "id": "-AT2oa63CwbP",
        "outputId": "9177105b-97cd-4934-c5f6-c8a3f732b006"
      },
      "outputs": [
        {
          "data": {
            "text/plain": [
              "array([[20. ,  4. , 30. ,  1.2]])"
            ]
          },
          "execution_count": 48,
          "metadata": {},
          "output_type": "execute_result"
        }
      ],
      "source": [
        "input = np.array([input_porosity, \n",
        "                  input_acousticimpedance, \n",
        "                  input_brittlenessratio, \n",
        "                  input_vitrinitereflectance]).reshape(1,-1)\n",
        "input"
      ]
    },
    {
      "cell_type": "code",
      "execution_count": 49,
      "metadata": {
        "colab": {
          "base_uri": "https://localhost:8080/"
        },
        "id": "VbIYA2LzjVx_",
        "outputId": "f5aea43c-173e-4a00-fa62-1a6611bb426a"
      },
      "outputs": [
        {
          "data": {
            "text/plain": [
              "2"
            ]
          },
          "execution_count": 49,
          "metadata": {},
          "output_type": "execute_result"
        }
      ],
      "source": [
        "np.ndim(input)"
      ]
    },
    {
      "cell_type": "markdown",
      "metadata": {
        "id": "_bESKE6YAhO7"
      },
      "source": [
        "Use `predict` method from our model `regressor`, but don't forget to `transform` the feature input using our scaler `sc`"
      ]
    },
    {
      "cell_type": "code",
      "execution_count": 50,
      "metadata": {
        "colab": {
          "base_uri": "https://localhost:8080/"
        },
        "id": "QoXNdOLECwy_",
        "outputId": "f595f6f2-aed2-41e4-9f2d-13dd83ef382d"
      },
      "outputs": [
        {
          "name": "stderr",
          "output_type": "stream",
          "text": [
            "/Library/Frameworks/Python.framework/Versions/3.10/lib/python3.10/site-packages/sklearn/base.py:420: UserWarning: X does not have valid feature names, but StandardScaler was fitted with feature names\n",
            "  warnings.warn(\n",
            "/Library/Frameworks/Python.framework/Versions/3.10/lib/python3.10/site-packages/sklearn/base.py:420: UserWarning: X does not have valid feature names, but LinearRegression was fitted with feature names\n",
            "  warnings.warn(\n"
          ]
        },
        {
          "data": {
            "text/plain": [
              "array([84.99603534])"
            ]
          },
          "execution_count": 50,
          "metadata": {},
          "output_type": "execute_result"
        }
      ],
      "source": [
        "output = regressor.predict(sc.transform(input))\n",
        "output"
      ]
    },
    {
      "cell_type": "markdown",
      "metadata": {
        "id": "U-GqHBuZhT69"
      },
      "source": [
        "##Cross-Validation"
      ]
    },
    {
      "cell_type": "code",
      "execution_count": 51,
      "metadata": {
        "colab": {
          "base_uri": "https://localhost:8080/"
        },
        "id": "ppiDobmRhYOL",
        "outputId": "95f84cd7-8560-46c4-f1f3-14aeeb85ab36"
      },
      "outputs": [
        {
          "data": {
            "text/plain": [
              "array([0.9422131 , 0.92413641, 0.92015078, 0.97251069, 0.95617484])"
            ]
          },
          "execution_count": 51,
          "metadata": {},
          "output_type": "execute_result"
        }
      ],
      "source": [
        "from sklearn.model_selection import cross_val_score\n",
        "\n",
        "cross_val_score(estimator=regressor, X=X_train_scaled, y=y_train, cv=5)"
      ]
    },
    {
      "attachments": {},
      "cell_type": "markdown",
      "metadata": {},
      "source": [
        "# Cross-Validation"
      ]
    },
    {
      "cell_type": "code",
      "execution_count": 52,
      "metadata": {},
      "outputs": [
        {
          "data": {
            "text/plain": [
              "array([0.91536167, 0.95641948, 0.91170903, 0.92459342, 0.92080223,\n",
              "       0.91511882, 0.97517961, 0.96901824, 0.94717503, 0.96213434])"
            ]
          },
          "execution_count": 52,
          "metadata": {},
          "output_type": "execute_result"
        }
      ],
      "source": [
        "from sklearn.model_selection import cross_val_score\n",
        "\n",
        "scores = cross_val_score(estimator= regressor, X= X_train_scaled, y= y_train, cv= 10)\n",
        "scores"
      ]
    },
    {
      "cell_type": "code",
      "execution_count": 53,
      "metadata": {},
      "outputs": [
        {
          "data": {
            "text/plain": [
              "0.9397511864956674"
            ]
          },
          "execution_count": 53,
          "metadata": {},
          "output_type": "execute_result"
        }
      ],
      "source": [
        "np.mean(scores)"
      ]
    },
    {
      "cell_type": "code",
      "execution_count": 54,
      "metadata": {},
      "outputs": [
        {
          "data": {
            "text/plain": [
              "0.023499938162323986"
            ]
          },
          "execution_count": 54,
          "metadata": {},
          "output_type": "execute_result"
        }
      ],
      "source": [
        "np.std(scores)"
      ]
    }
  ],
  "metadata": {
    "colab": {
      "provenance": []
    },
    "kernelspec": {
      "display_name": "Python 3",
      "name": "python3"
    },
    "language_info": {
      "codemirror_mode": {
        "name": "ipython",
        "version": 3
      },
      "file_extension": ".py",
      "mimetype": "text/x-python",
      "name": "python",
      "nbconvert_exporter": "python",
      "pygments_lexer": "ipython3",
      "version": "3.10.10"
    }
  },
  "nbformat": 4,
  "nbformat_minor": 0
}
